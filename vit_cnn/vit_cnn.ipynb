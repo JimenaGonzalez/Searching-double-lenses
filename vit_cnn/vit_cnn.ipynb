{
 "cells": [
  {
   "cell_type": "code",
   "execution_count": 1,
   "id": "568eaf3f",
   "metadata": {},
   "outputs": [],
   "source": [
    "import numpy as np\n",
    "import pandas as pd\n",
    "\n",
    "import torch\n",
    "import torch.nn as nn\n",
    "import torchvision.transforms as transforms\n",
    "from torch.utils.data import Dataset, DataLoader\n",
    "import timm\n",
    "\n",
    "from sklearn.model_selection import train_test_split\n",
    "\n",
    "from PIL import Image, ImageOps\n",
    "from transformers import ViTFeatureExtractor, ViTForImageClassification\n",
    "\n",
    "import random\n",
    "import gc\n",
    "from astropy.io import fits\n",
    "\n",
    "from skimage import io\n",
    "import matplotlib.pyplot as plt\n",
    "#If using script on terminal\n",
    "#import tqdm\n",
    "from tqdm.notebook import tqdm\n",
    "\n",
    "from astropy.visualization import make_lupton_rgb\n",
    "plt.style.use('dark_background')"
   ]
  },
  {
   "cell_type": "code",
   "execution_count": 2,
   "id": "684b61b8",
   "metadata": {},
   "outputs": [],
   "source": [
    "class ImageDataset(Dataset):\n",
    "    \"\"\"Dataset of Images, Data and Labels\"\"\"\n",
    "\n",
    "    def __init__(self, images, data, labels, transform=None):\n",
    "        \"\"\"\n",
    "        Create a PyTorch dataset from an array of images\n",
    "\t\tand an array of labels\n",
    "        \"\"\"\n",
    "        super().__init__()\n",
    "        self.images = images\n",
    "        self.data = data\n",
    "        self.labels = labels\n",
    "        self.transform = transform\n",
    "\n",
    "    def __len__(self):\n",
    "        return len(self.labels)\n",
    "\n",
    "    def __getitem__(self, idx):\n",
    "        #return python image given the index\n",
    "        image = images[idx]\n",
    "        \"\"\"\n",
    "        #Plotting with Astropy and saving as png (not used right now)\n",
    "        print('Astropy')\n",
    "        rgb = make_lupton_rgb(image[2], image[1], image[0], Q=11., stretch=40.)\n",
    "        plt.imshow(rgb, aspect='equal')\n",
    "        plt.savefig('Image.png', bbox_inches='tight')\n",
    "        plt.close()\n",
    "        new_image = Image.open('Image.png')\n",
    "        return(new_image)\n",
    "        \"\"\"\n",
    "        new_image = np.empty((3, 46, 46))\n",
    "        new_image[0], new_image[1], new_image[2] =  self.normalize_image(image)\n",
    "        new_image = new_image.transpose(1,2,0)\n",
    "        new_image = Image.fromarray(np.uint8(255*new_image)).convert(\"RGB\")\n",
    "        label = labels[idx]\n",
    "        return self.transform(new_image), label\n",
    "    \n",
    "    def normalize_image(self, image):\n",
    "        image_g = (image[0]-np.mean(image[0]))/ np.std(image[0])\n",
    "        image_r = (image[1]-np.mean(image[1]))/ np.std(image[1])\n",
    "        image_i = (image[2]-np.mean(image[2]))/ np.std(image[2])\n",
    "\n",
    "        image_g = (image_g-np.min(image_g))/ (np.max(image_g) - np.min(image_g))\n",
    "        image_r = (image_r-np.min(image_r))/ (np.max(image_r) - np.min(image_r))\n",
    "        image_i = (image_i-np.min(image_i))/ (np.max(image_i) - np.min(image_i))\n",
    "        return(image_i, image_r, image_g)\n",
    "    \n",
    "    def plot_image(self, idx):\n",
    "        image = images[idx]\n",
    "        new_image = np.empty((3, 46, 46))\n",
    "        new_image[0], new_image[1], new_image[2] =  self.normalize_image(image)\n",
    "        new_image = new_image.transpose(1,2,0)\n",
    "        new_image = Image.fromarray(np.uint8(255*new_image)).convert(\"RGB\")\n",
    "        \n",
    "        plt.figure(figsize=(12,4)) \n",
    "        \n",
    "        plt.subplot(1,2,1)\n",
    "        plt.imshow(np.asarray(new_image))\n",
    "        plt.axis('off')\n",
    "        \n",
    "        plt.subplot(1,2,2)\n",
    "        rgb = make_lupton_rgb(image[2], image[1], image[0], Q=11., stretch=40.)\n",
    "        plt.imshow(rgb, aspect='equal')\n",
    "        plt.axis('off')\n",
    "        \n",
    "        plt.show()"
   ]
  },
  {
   "cell_type": "code",
   "execution_count": 3,
   "id": "b39e738e",
   "metadata": {},
   "outputs": [],
   "source": [
    "def make_train_test_datasets(images, data, labels, test_size=0.2, transform=None):\n",
    "    \"\"\"\n",
    "\tMake training and testing datasets\n",
    "\t\n",
    "\tArgs:\n",
    "\t    images: 3D array of all images\n",
    "        labels: 1D array of the labels for each image\n",
    "        test_size: the fraction of the images to use as the test dataset\n",
    "\t\ttransform: the PyTorch transformation to apply to the data\n",
    "\t\t\n",
    "\tReturns\n",
    "\t    train_dataset: An instance of the ImageDataset Class for training\n",
    "\t\ttest_dataset: An instance of the ImageDataset Class for testing\n",
    "\t\"\"\"\n",
    "\n",
    "    # Shuffle and split data\n",
    "    y = labels\n",
    "    train_images, test_images, train_data, test_data, train_labels, test_labels = train_test_split(\n",
    "        images, data, labels, test_size=test_size, random_state=6, stratify=y)\n",
    "    \n",
    "    # Create a PyTorch Dataset\n",
    "    return (ImageDataset(train_images, train_data, train_labels, transform=transform),\n",
    "            ImageDataset(test_images, test_data, test_labels, transform=transform))"
   ]
  },
  {
   "cell_type": "code",
   "execution_count": 4,
   "id": "f0ba4b6f",
   "metadata": {},
   "outputs": [
    {
     "name": "stdout",
     "output_type": "stream",
     "text": [
      "400\n",
      "19000\n"
     ]
    }
   ],
   "source": [
    "num_pos, num_neg = 400, 600\n",
    "path = '/Users/jimenagonzalez/research/DSPL/Simulations-Double-Source-Gravitational-Lensing/Data/Sim_complete/'\n",
    "\n",
    "hdu_list = fits.open(path + 'exp/32.fits')\n",
    "print(len(hdu_list[1].data))\n",
    "idx = random.sample(range(len(hdu_list[1].data)), num_pos)\n",
    "images_pos = hdu_list[1].data[idx,:] \n",
    "data_pos = pd.DataFrame(hdu_list[2].data[:][idx])\n",
    "labels_pos = np.zeros(num_pos, dtype = np.int64)\n",
    "\n",
    "hdu_list = fits.open(path + 'negative_cases.fits')\n",
    "print(len(hdu_list[1].data))\n",
    "idx = random.sample(range(len(hdu_list[1].data)), num_neg)\n",
    "images_neg = hdu_list[1].data[idx,:] \n",
    "labels_neg = np.ones(num_neg, dtype = np.int64)\n",
    "#Data for negatives, all null\n",
    "num_columns = len(data_pos.columns)\n",
    "data_neg = np.full((num_neg, num_columns-1), 0)\n",
    "data_neg = pd.DataFrame(data_neg, columns=['zl/z1', 'm', 'iso', 'E', 'Magni 1'])\n",
    "last_column = ['NEG']*num_neg\n",
    "data_neg['ID'] = last_column\n",
    "\n",
    "images = np.concatenate((images_pos, images_neg)).astype(np.float32)\n",
    "data = pd.concat([data_pos, data_neg], axis=0).reset_index(drop=True)\n",
    "labels = np.concatenate((labels_pos,labels_neg), dtype = np.int64)\n",
    "\n",
    "transform = transforms.Compose([\n",
    "            transforms.Resize((224, 224)),\n",
    "            transforms.ToTensor(),\n",
    "            transforms.Normalize((0.485, 0.456, 0.406), (0.229, 0.224, 0.225))])\n",
    "\n",
    "dataset = ImageDataset(images, data, labels, transform=transform)"
   ]
  },
  {
   "cell_type": "code",
   "execution_count": 5,
   "id": "1080b66c",
   "metadata": {},
   "outputs": [],
   "source": [
    "train_dataset, test_dataset = make_train_test_datasets(images, data, labels, test_size=0.2, transform=transform)"
   ]
  },
  {
   "cell_type": "code",
   "execution_count": 6,
   "id": "c2ebddc5",
   "metadata": {
    "scrolled": true
   },
   "outputs": [
    {
     "data": {
      "image/png": "[encoded data removed]",
      "text/plain": [
       "<Figure size 864x288 with 2 Axes>"
      ]
     },
     "metadata": {},
     "output_type": "display_data"
    },
    {
     "name": "stdout",
     "output_type": "stream",
     "text": [
      "        zl/z1          m       iso         E   Magni 1               ID\n",
      "339  0.801759  22.481726  0.382703  0.774332  3.607235  POS_320668898_0\n"
     ]
    },
    {
     "data": {
      "image/png": "[encoded data removed]",
      "text/plain": [
       "<Figure size 864x288 with 2 Axes>"
      ]
     },
     "metadata": {},
     "output_type": "display_data"
    },
    {
     "name": "stdout",
     "output_type": "stream",
     "text": [
      "     zl/z1    m  iso    E  Magni 1   ID\n",
      "916    0.0  0.0  0.0  0.0      0.0  NEG\n"
     ]
    }
   ],
   "source": [
    "images, data, labels = train_dataset.images, train_dataset.data, train_dataset.labels\n",
    "for i in range(2):\n",
    "    train_dataset.plot_image(i)\n",
    "    row = data.iloc[[i]]\n",
    "    print(row)"
   ]
  },
  {
   "cell_type": "code",
   "execution_count": 7,
   "id": "a3061db0",
   "metadata": {},
   "outputs": [
    {
     "name": "stdout",
     "output_type": "stream",
     "text": [
      "800 200\n",
      "40 10\n"
     ]
    }
   ],
   "source": [
    "print(len(train_dataset), len(test_dataset))\n",
    "train_loader = torch.utils.data.DataLoader(dataset=train_dataset, batch_size=20, num_workers=0, shuffle=True)\n",
    "test_loader = torch.utils.data.DataLoader(dataset=test_dataset, batch_size=20, num_workers=0, shuffle=True)\n",
    "print(len(train_loader), len(test_loader))"
   ]
  },
  {
   "cell_type": "code",
   "execution_count": 8,
   "id": "1a0dfe3a",
   "metadata": {},
   "outputs": [
    {
     "name": "stderr",
     "output_type": "stream",
     "text": [
      "Clipping input data to the valid range for imshow with RGB data ([0..1] for floats or [0..255] for integers).\n"
     ]
    },
    {
     "name": "stdout",
     "output_type": "stream",
     "text": [
      "Feature batch shape: torch.Size([20, 3, 224, 224])\n",
      "Labels batch shape: torch.Size([20])\n",
      "torch.Size([3, 224, 224])\n"
     ]
    },
    {
     "data": {
      "image/png": "[encoded data removed]",
      "text/plain": [
       "<Figure size 432x288 with 1 Axes>"
      ]
     },
     "metadata": {},
     "output_type": "display_data"
    },
    {
     "name": "stdout",
     "output_type": "stream",
     "text": [
      "Label: 1\n"
     ]
    }
   ],
   "source": [
    "train_features, train_labels = next(iter(train_loader))\n",
    "print(f\"Feature batch shape: {train_features.size()}\")\n",
    "print(f\"Labels batch shape: {train_labels.size()}\")\n",
    "img = train_features[6].squeeze()\n",
    "print(img.shape)\n",
    "label = train_labels[6]\n",
    "plt.imshow(img.T, cmap=\"gray\")\n",
    "plt.show()\n",
    "print(f\"Label: {label}\")"
   ]
  },
  {
   "cell_type": "code",
   "execution_count": 9,
   "id": "1435e7a9",
   "metadata": {},
   "outputs": [
    {
     "data": {
      "application/vnd.jupyter.widget-view+json": {
       "model_id": "0ee71412b82541a99668eb9dd5738bf8",
       "version_major": 2,
       "version_minor": 0
      },
      "text/plain": [
       "0it [00:00, ?it/s]"
      ]
     },
     "metadata": {},
     "output_type": "display_data"
    },
    {
     "name": "stdout",
     "output_type": "stream",
     "text": [
      "tensor(1)\n",
      "tensor(1)\n",
      "tensor(0)\n"
     ]
    }
   ],
   "source": [
    "for i_batch, (sample_image, sample_label) in tqdm(enumerate(train_loader)):\n",
    "    print(sample_label[0])\n",
    "    if(i_batch == 2): break"
   ]
  },
  {
   "cell_type": "code",
   "execution_count": 10,
   "id": "2673e0cb",
   "metadata": {},
   "outputs": [
    {
     "data": {
      "text/plain": [
       "<All keys matched successfully>"
      ]
     },
     "execution_count": 10,
     "metadata": {},
     "output_type": "execute_result"
    }
   ],
   "source": [
    "model = timm.create_model(\"vit_base_patch16_224\", pretrained=True)\n",
    "path = 'jx_vit_base_p16_224-80ecf9dd.pth'\n",
    "model.load_state_dict(torch.load(path))"
   ]
  },
  {
   "cell_type": "code",
   "execution_count": 11,
   "id": "01310cf3",
   "metadata": {},
   "outputs": [],
   "source": [
    "class ViTBase16(nn.Module):\n",
    "    \n",
    "    def __init__(self, n_classes, pretrained=False):\n",
    "        \n",
    "        super(ViTBase16, self).__init__()\n",
    "        \n",
    "        self.model = timm.create_model(\"vit_base_patch16_224\", pretrained=True)\n",
    "        if (pretrained):\n",
    "            path = 'jx_vit_base_p16_224-80ecf9dd.pth'\n",
    "            self.model.load_state_dict(torch.load(path))\n",
    "\n",
    "        self.model.head = nn.Linear(self.model.head.in_features, n_classes)\n",
    "\n",
    "    def forward(self, x):\n",
    "\n",
    "        x = self.model(x)\n",
    "\n",
    "        return x\n",
    "\n",
    "    def train_one_epoch(self, train_loader, criterion, optimizer, device):\n",
    "        # keep track of training loss\n",
    "        epoch_loss = 0.0\n",
    "        epoch_accuracy = 0.0\n",
    "\n",
    "        ###################\n",
    "        # train the model #\n",
    "        ###################\n",
    "\n",
    "        self.model.train()\n",
    "\n",
    "        #for i_batch, (sample_image, sample_label) in tqdm(enumerate(train_loader)):\n",
    "        for i, (data, target) in tqdm(enumerate(train_loader)):\n",
    "\n",
    "\n",
    "            # move tensors to GPU if CUDA is available\n",
    "            if device.type == \"cuda\":\n",
    "                data, target = data.cuda(), target.cuda()\n",
    "\n",
    "            # clear the gradients of all optimized variables\n",
    "            optimizer.zero_grad()\n",
    "            # forward pass: compute predicted outputs by passing inputs to the model\n",
    "            output = self.forward(data)\n",
    "            #output = torch.squeeze(output)\n",
    "\n",
    "\n",
    "            #target = target.float()\n",
    "            # calculate the batch loss\n",
    "            loss = criterion(output, target)\n",
    "            # backward pass: compute gradient of the loss with respect to model parameters\n",
    "            loss.backward()\n",
    "            # Calculate Accuracy\n",
    "            accuracy = (output.argmax(dim=1) == target).float().mean()\n",
    "            # update training loss and accuracy\n",
    "            epoch_loss += loss\n",
    "            epoch_accuracy += accuracy\n",
    "\n",
    "            optimizer.step()\n",
    "\n",
    "        return epoch_loss / len(train_loader), epoch_accuracy / len(train_loader)\n",
    "\n",
    "    def validate_one_epoch(self, valid_loader, criterion, device):\n",
    "        # keep track of validation loss\n",
    "        valid_loss = 0.0\n",
    "        valid_accuracy = 0.0\n",
    "\n",
    "        ######################\n",
    "        # validate the model #\n",
    "        ######################\n",
    "        self.model.eval()\n",
    "        for data, target in tqdm(valid_loader):\n",
    "            # move tensors to GPU if CUDA is available\n",
    "            if device.type == \"cuda\":\n",
    "                data, target = data.cuda(), target.cuda()\n",
    "\n",
    "            with torch.no_grad():\n",
    "                # forward pass: compute predicted outputs by passing inputs to the model\n",
    "                output = self.model(data)\n",
    "                # calculate the batch loss\n",
    "                loss = criterion(output, target)\n",
    "                # Calculate Accuracy\n",
    "                accuracy = (output.argmax(dim=1) == target).float().mean()\n",
    "                # update average validation loss and accuracy\n",
    "                valid_loss += loss\n",
    "                valid_accuracy += accuracy\n",
    "\n",
    "        return valid_loss / len(valid_loader), valid_accuracy / len(valid_loader)"
   ]
  },
  {
   "cell_type": "code",
   "execution_count": 12,
   "id": "1e5c52e0",
   "metadata": {},
   "outputs": [
    {
     "name": "stdout",
     "output_type": "stream",
     "text": [
      "cpu\n"
     ]
    }
   ],
   "source": [
    "model = ViTBase16(n_classes=2, pretrained=True)\n",
    "\n",
    "# Start training processes\n",
    "device = torch.device(\"cuda\")\n",
    "\n",
    "criterion = nn.CrossEntropyLoss()\n",
    "#criterion = nn.BCEWithLogitsLoss()\n",
    "device = torch.device(\"cuda\" if torch.cuda.is_available() else \"cpu\")\n",
    "print(device)\n",
    "# device = xm.xla_device()\n",
    "model.to(device)\n",
    "\n",
    "# lr = LR * xm.xrt_world_size()\n",
    "learning_rate = 0.0001\n",
    "optimizer = torch.optim.Adam(model.parameters(), lr=learning_rate)\n"
   ]
  },
  {
   "cell_type": "code",
   "execution_count": 13,
   "id": "bec16e6d",
   "metadata": {},
   "outputs": [],
   "source": [
    "def fit_tpu(model, epochs, device, criterion, optimizer, train_loader, valid_loader=None):\n",
    "    \n",
    "    best_val_acc = 0.0 # track of best accuracy\n",
    "\n",
    "    # keeping track of losses as it happen\n",
    "    train_losses = []\n",
    "    valid_losses = []\n",
    "    train_accs = []\n",
    "    valid_accs = []\n",
    "\n",
    "    for epoch in range(1, epochs + 1):\n",
    "        gc.collect()\n",
    "        \n",
    "        print(f\"{'=' * 100}\")\n",
    "        print(f\"EPOCH {epoch} - TRAINING...\")\n",
    "        train_loss, train_acc = model.train_one_epoch(train_loader, criterion, optimizer, device)\n",
    "        print(f\"\\n\\t[TRAIN] EPOCH {epoch} - LOSS: {train_loss}, ACCURACY: {train_acc}\\n\")\n",
    "        train_losses.append(train_loss)\n",
    "        train_accs.append(train_acc)\n",
    "        gc.collect()\n",
    "\n",
    "        # moves towards valid_loader\n",
    "        print(\"start valid_loader\")\n",
    "\n",
    "        if valid_loader is not None:\n",
    "            gc.collect()\n",
    "            print(f\"EPOCH {epoch} - VALIDATING...\")\n",
    "            valid_loss, valid_acc = model.validate_one_epoch(valid_loader, criterion, device)\n",
    "            print(f\"\\t[VALID] LOSS: {valid_loss}, ACCURACY: {valid_acc}\\n\")\n",
    "            valid_losses.append(valid_loss)\n",
    "            valid_accs.append(valid_acc)\n",
    "            gc.collect()\n",
    "\n",
    "            if(valid_acc > best_val_acc):\n",
    "                setattr(model, 'loss_train', train_losses)\n",
    "                setattr(model, 'loss_valid', valid_losses)\n",
    "                setattr(model, 'train_acc', train_accs)\n",
    "                setattr(model, 'validation_acc', valid_accs)\n",
    "                torch.save(model, 'name_model')\n",
    "                best_val_acc = valid_acc\n",
    "\n",
    "    return {\n",
    "        \"train_loss\": train_losses,\n",
    "        \"valid_losses\": valid_losses,\n",
    "        \"train_acc\": train_accs,\n",
    "        \"valid_acc\": valid_accs,\n",
    "    }"
   ]
  },
  {
   "cell_type": "code",
   "execution_count": 14,
   "id": "7b3a9f33",
   "metadata": {},
   "outputs": [
    {
     "name": "stdout",
     "output_type": "stream",
     "text": [
      "====================================================================================================\n",
      "EPOCH 1 - TRAINING...\n"
     ]
    },
    {
     "data": {
      "application/vnd.jupyter.widget-view+json": {
       "model_id": "a5fb596187d74303a3ff36ed6f3322d1",
       "version_major": 2,
       "version_minor": 0
      },
      "text/plain": [
       "0it [00:00, ?it/s]"
      ]
     },
     "metadata": {},
     "output_type": "display_data"
    },
    {
     "name": "stdout",
     "output_type": "stream",
     "text": [
      "\n",
      "\t[TRAIN] EPOCH 1 - LOSS: 0.53797447681427, ACCURACY: 0.7437500953674316\n",
      "\n",
      "start valid_loader\n",
      "EPOCH 1 - VALIDATING...\n"
     ]
    },
    {
     "data": {
      "application/vnd.jupyter.widget-view+json": {
       "model_id": "5aea2ac941054d9aab4265a3caaa2146",
       "version_major": 2,
       "version_minor": 0
      },
      "text/plain": [
       "  0%|          | 0/10 [00:00<?, ?it/s]"
      ]
     },
     "metadata": {},
     "output_type": "display_data"
    },
    {
     "name": "stdout",
     "output_type": "stream",
     "text": [
      "\t[VALID] LOSS: 0.3203829228878021, ACCURACY: 0.8700000047683716\n",
      "\n",
      "====================================================================================================\n",
      "EPOCH 2 - TRAINING...\n"
     ]
    },
    {
     "data": {
      "application/vnd.jupyter.widget-view+json": {
       "model_id": "999fb944ad0645c78bcc5e01ad39f25f",
       "version_major": 2,
       "version_minor": 0
      },
      "text/plain": [
       "0it [00:00, ?it/s]"
      ]
     },
     "metadata": {},
     "output_type": "display_data"
    },
    {
     "name": "stdout",
     "output_type": "stream",
     "text": [
      "\n",
      "\t[TRAIN] EPOCH 2 - LOSS: 0.31634023785591125, ACCURACY: 0.8700000643730164\n",
      "\n",
      "start valid_loader\n",
      "EPOCH 2 - VALIDATING...\n"
     ]
    },
    {
     "data": {
      "application/vnd.jupyter.widget-view+json": {
       "model_id": "b234dbc518804b89b9be97ec189cbfd2",
       "version_major": 2,
       "version_minor": 0
      },
      "text/plain": [
       "  0%|          | 0/10 [00:00<?, ?it/s]"
      ]
     },
     "metadata": {},
     "output_type": "display_data"
    },
    {
     "name": "stdout",
     "output_type": "stream",
     "text": [
      "\t[VALID] LOSS: 0.13981831073760986, ACCURACY: 0.9549999237060547\n",
      "\n",
      "====================================================================================================\n",
      "EPOCH 3 - TRAINING...\n"
     ]
    },
    {
     "data": {
      "application/vnd.jupyter.widget-view+json": {
       "model_id": "cb9e485466f74bd1b844b9911d8eeb43",
       "version_major": 2,
       "version_minor": 0
      },
      "text/plain": [
       "0it [00:00, ?it/s]"
      ]
     },
     "metadata": {},
     "output_type": "display_data"
    },
    {
     "name": "stdout",
     "output_type": "stream",
     "text": [
      "\n",
      "\t[TRAIN] EPOCH 3 - LOSS: 0.2186889350414276, ACCURACY: 0.9150000810623169\n",
      "\n",
      "start valid_loader\n",
      "EPOCH 3 - VALIDATING...\n"
     ]
    },
    {
     "data": {
      "application/vnd.jupyter.widget-view+json": {
       "model_id": "b2936fc4e5094e4ea452aa23d18bfe43",
       "version_major": 2,
       "version_minor": 0
      },
      "text/plain": [
       "  0%|          | 0/10 [00:00<?, ?it/s]"
      ]
     },
     "metadata": {},
     "output_type": "display_data"
    },
    {
     "name": "stdout",
     "output_type": "stream",
     "text": [
      "\t[VALID] LOSS: 0.17126920819282532, ACCURACY: 0.9449999928474426\n",
      "\n",
      "====================================================================================================\n",
      "EPOCH 4 - TRAINING...\n"
     ]
    },
    {
     "data": {
      "application/vnd.jupyter.widget-view+json": {
       "model_id": "2cc3b7ff68c6437a978ecc0e990b9625",
       "version_major": 2,
       "version_minor": 0
      },
      "text/plain": [
       "0it [00:00, ?it/s]"
      ]
     },
     "metadata": {},
     "output_type": "display_data"
    },
    {
     "name": "stdout",
     "output_type": "stream",
     "text": [
      "\n",
      "\t[TRAIN] EPOCH 4 - LOSS: 0.12758122384548187, ACCURACY: 0.955000102519989\n",
      "\n",
      "start valid_loader\n",
      "EPOCH 4 - VALIDATING...\n"
     ]
    },
    {
     "data": {
      "application/vnd.jupyter.widget-view+json": {
       "model_id": "13ab35d1a70b4a1abf49686230aa7210",
       "version_major": 2,
       "version_minor": 0
      },
      "text/plain": [
       "  0%|          | 0/10 [00:00<?, ?it/s]"
      ]
     },
     "metadata": {},
     "output_type": "display_data"
    },
    {
     "name": "stdout",
     "output_type": "stream",
     "text": [
      "\t[VALID] LOSS: 0.11044792830944061, ACCURACY: 0.9599999189376831\n",
      "\n",
      "====================================================================================================\n",
      "EPOCH 5 - TRAINING...\n"
     ]
    },
    {
     "data": {
      "application/vnd.jupyter.widget-view+json": {
       "model_id": "3a6958dc541d4a11a4f762ce25c4e42d",
       "version_major": 2,
       "version_minor": 0
      },
      "text/plain": [
       "0it [00:00, ?it/s]"
      ]
     },
     "metadata": {},
     "output_type": "display_data"
    },
    {
     "name": "stdout",
     "output_type": "stream",
     "text": [
      "\n",
      "\t[TRAIN] EPOCH 5 - LOSS: 0.1871086061000824, ACCURACY: 0.9400002360343933\n",
      "\n",
      "start valid_loader\n",
      "EPOCH 5 - VALIDATING...\n"
     ]
    },
    {
     "data": {
      "application/vnd.jupyter.widget-view+json": {
       "model_id": "b9196b4c333641319a576a5cea7b335e",
       "version_major": 2,
       "version_minor": 0
      },
      "text/plain": [
       "  0%|          | 0/10 [00:00<?, ?it/s]"
      ]
     },
     "metadata": {},
     "output_type": "display_data"
    },
    {
     "name": "stdout",
     "output_type": "stream",
     "text": [
      "\t[VALID] LOSS: 0.05360303446650505, ACCURACY: 0.9799998998641968\n",
      "\n",
      "====================================================================================================\n",
      "EPOCH 6 - TRAINING...\n"
     ]
    },
    {
     "data": {
      "application/vnd.jupyter.widget-view+json": {
       "model_id": "0ae9975624e24e1cb71da4fde2a03b19",
       "version_major": 2,
       "version_minor": 0
      },
      "text/plain": [
       "0it [00:00, ?it/s]"
      ]
     },
     "metadata": {},
     "output_type": "display_data"
    },
    {
     "name": "stdout",
     "output_type": "stream",
     "text": [
      "\n",
      "\t[TRAIN] EPOCH 6 - LOSS: 0.07404609769582748, ACCURACY: 0.9750002026557922\n",
      "\n",
      "start valid_loader\n",
      "EPOCH 6 - VALIDATING...\n"
     ]
    },
    {
     "data": {
      "application/vnd.jupyter.widget-view+json": {
       "model_id": "2137505d4e1d4c029a0eb9ba2d7f4072",
       "version_major": 2,
       "version_minor": 0
      },
      "text/plain": [
       "  0%|          | 0/10 [00:00<?, ?it/s]"
      ]
     },
     "metadata": {},
     "output_type": "display_data"
    },
    {
     "name": "stdout",
     "output_type": "stream",
     "text": [
      "\t[VALID] LOSS: 0.01925651542842388, ACCURACY: 0.9899999499320984\n",
      "\n",
      "====================================================================================================\n",
      "EPOCH 7 - TRAINING...\n"
     ]
    },
    {
     "data": {
      "application/vnd.jupyter.widget-view+json": {
       "model_id": "f79fccb052144a948431406bf7e4f90a",
       "version_major": 2,
       "version_minor": 0
      },
      "text/plain": [
       "0it [00:00, ?it/s]"
      ]
     },
     "metadata": {},
     "output_type": "display_data"
    },
    {
     "name": "stdout",
     "output_type": "stream",
     "text": [
      "\n",
      "\t[TRAIN] EPOCH 7 - LOSS: 0.06425538659095764, ACCURACY: 0.9800001382827759\n",
      "\n",
      "start valid_loader\n",
      "EPOCH 7 - VALIDATING...\n"
     ]
    },
    {
     "data": {
      "application/vnd.jupyter.widget-view+json": {
       "model_id": "add5783a5e984a43a4e0b08ceacec6ef",
       "version_major": 2,
       "version_minor": 0
      },
      "text/plain": [
       "  0%|          | 0/10 [00:00<?, ?it/s]"
      ]
     },
     "metadata": {},
     "output_type": "display_data"
    },
    {
     "name": "stdout",
     "output_type": "stream",
     "text": [
      "\t[VALID] LOSS: 0.024998703971505165, ACCURACY: 0.9950000047683716\n",
      "\n",
      "====================================================================================================\n",
      "EPOCH 8 - TRAINING...\n"
     ]
    },
    {
     "data": {
      "application/vnd.jupyter.widget-view+json": {
       "model_id": "cd7d93b30f7a417cbcbebd642cab747a",
       "version_major": 2,
       "version_minor": 0
      },
      "text/plain": [
       "0it [00:00, ?it/s]"
      ]
     },
     "metadata": {},
     "output_type": "display_data"
    },
    {
     "name": "stdout",
     "output_type": "stream",
     "text": [
      "\n",
      "\t[TRAIN] EPOCH 8 - LOSS: 0.06737850606441498, ACCURACY: 0.9700002670288086\n",
      "\n",
      "start valid_loader\n",
      "EPOCH 8 - VALIDATING...\n"
     ]
    },
    {
     "data": {
      "application/vnd.jupyter.widget-view+json": {
       "model_id": "e29a2568bdfb4f95bc185641a8234f02",
       "version_major": 2,
       "version_minor": 0
      },
      "text/plain": [
       "  0%|          | 0/10 [00:00<?, ?it/s]"
      ]
     },
     "metadata": {},
     "output_type": "display_data"
    },
    {
     "name": "stdout",
     "output_type": "stream",
     "text": [
      "\t[VALID] LOSS: 0.029271656647324562, ACCURACY: 0.9899999499320984\n",
      "\n",
      "====================================================================================================\n",
      "EPOCH 9 - TRAINING...\n"
     ]
    },
    {
     "data": {
      "application/vnd.jupyter.widget-view+json": {
       "model_id": "8b49dab3cb6546db813bf3da97ecd01b",
       "version_major": 2,
       "version_minor": 0
      },
      "text/plain": [
       "0it [00:00, ?it/s]"
      ]
     },
     "metadata": {},
     "output_type": "display_data"
    },
    {
     "name": "stdout",
     "output_type": "stream",
     "text": [
      "\n",
      "\t[TRAIN] EPOCH 9 - LOSS: 0.06724857538938522, ACCURACY: 0.9774999618530273\n",
      "\n",
      "start valid_loader\n",
      "EPOCH 9 - VALIDATING...\n"
     ]
    },
    {
     "data": {
      "application/vnd.jupyter.widget-view+json": {
       "model_id": "0a70c2ad25df454d84f8ad6d2fb6ccbf",
       "version_major": 2,
       "version_minor": 0
      },
      "text/plain": [
       "  0%|          | 0/10 [00:00<?, ?it/s]"
      ]
     },
     "metadata": {},
     "output_type": "display_data"
    },
    {
     "name": "stdout",
     "output_type": "stream",
     "text": [
      "\t[VALID] LOSS: 0.015694284811615944, ACCURACY: 0.9950000047683716\n",
      "\n",
      "====================================================================================================\n",
      "EPOCH 10 - TRAINING...\n"
     ]
    },
    {
     "data": {
      "application/vnd.jupyter.widget-view+json": {
       "model_id": "87d259e6b1ff415eb80747001a0d472f",
       "version_major": 2,
       "version_minor": 0
      },
      "text/plain": [
       "0it [00:00, ?it/s]"
      ]
     },
     "metadata": {},
     "output_type": "display_data"
    },
    {
     "ename": "KeyboardInterrupt",
     "evalue": "",
     "output_type": "error",
     "traceback": [
      "\u001b[0;31m---------------------------------------------------------------------------\u001b[0m",
      "\u001b[0;31mKeyboardInterrupt\u001b[0m                         Traceback (most recent call last)",
      "\u001b[0;32m/var/folders/kn/2ng47p4x5qq6hwt5vqw16gfh0000gn/T/ipykernel_53578/771413775.py\u001b[0m in \u001b[0;36m<module>\u001b[0;34m\u001b[0m\n\u001b[1;32m      6\u001b[0m             \u001b[0moptimizer\u001b[0m\u001b[0;34m=\u001b[0m\u001b[0moptimizer\u001b[0m\u001b[0;34m,\u001b[0m\u001b[0;34m\u001b[0m\u001b[0;34m\u001b[0m\u001b[0m\n\u001b[1;32m      7\u001b[0m             \u001b[0mtrain_loader\u001b[0m\u001b[0;34m=\u001b[0m\u001b[0mtrain_loader\u001b[0m\u001b[0;34m,\u001b[0m\u001b[0;34m\u001b[0m\u001b[0;34m\u001b[0m\u001b[0m\n\u001b[0;32m----> 8\u001b[0;31m             \u001b[0mvalid_loader\u001b[0m\u001b[0;34m=\u001b[0m\u001b[0mtest_loader\u001b[0m\u001b[0;34m,\u001b[0m\u001b[0;34m\u001b[0m\u001b[0;34m\u001b[0m\u001b[0m\n\u001b[0m\u001b[1;32m      9\u001b[0m         )\n",
      "\u001b[0;32m/var/folders/kn/2ng47p4x5qq6hwt5vqw16gfh0000gn/T/ipykernel_53578/362313903.py\u001b[0m in \u001b[0;36mfit_tpu\u001b[0;34m(model, epochs, device, criterion, optimizer, train_loader, valid_loader)\u001b[0m\n\u001b[1;32m     14\u001b[0m         \u001b[0mprint\u001b[0m\u001b[0;34m(\u001b[0m\u001b[0;34mf\"{'=' * 100}\"\u001b[0m\u001b[0;34m)\u001b[0m\u001b[0;34m\u001b[0m\u001b[0;34m\u001b[0m\u001b[0m\n\u001b[1;32m     15\u001b[0m         \u001b[0mprint\u001b[0m\u001b[0;34m(\u001b[0m\u001b[0;34mf\"EPOCH {epoch} - TRAINING...\"\u001b[0m\u001b[0;34m)\u001b[0m\u001b[0;34m\u001b[0m\u001b[0;34m\u001b[0m\u001b[0m\n\u001b[0;32m---> 16\u001b[0;31m         \u001b[0mtrain_loss\u001b[0m\u001b[0;34m,\u001b[0m \u001b[0mtrain_acc\u001b[0m \u001b[0;34m=\u001b[0m \u001b[0mmodel\u001b[0m\u001b[0;34m.\u001b[0m\u001b[0mtrain_one_epoch\u001b[0m\u001b[0;34m(\u001b[0m\u001b[0mtrain_loader\u001b[0m\u001b[0;34m,\u001b[0m \u001b[0mcriterion\u001b[0m\u001b[0;34m,\u001b[0m \u001b[0moptimizer\u001b[0m\u001b[0;34m,\u001b[0m \u001b[0mdevice\u001b[0m\u001b[0;34m)\u001b[0m\u001b[0;34m\u001b[0m\u001b[0;34m\u001b[0m\u001b[0m\n\u001b[0m\u001b[1;32m     17\u001b[0m         \u001b[0mprint\u001b[0m\u001b[0;34m(\u001b[0m\u001b[0;34mf\"\\n\\t[TRAIN] EPOCH {epoch} - LOSS: {train_loss}, ACCURACY: {train_acc}\\n\"\u001b[0m\u001b[0;34m)\u001b[0m\u001b[0;34m\u001b[0m\u001b[0;34m\u001b[0m\u001b[0m\n\u001b[1;32m     18\u001b[0m         \u001b[0mtrain_losses\u001b[0m\u001b[0;34m.\u001b[0m\u001b[0mappend\u001b[0m\u001b[0;34m(\u001b[0m\u001b[0mtrain_loss\u001b[0m\u001b[0;34m)\u001b[0m\u001b[0;34m\u001b[0m\u001b[0;34m\u001b[0m\u001b[0m\n",
      "\u001b[0;32m/var/folders/kn/2ng47p4x5qq6hwt5vqw16gfh0000gn/T/ipykernel_53578/3389585202.py\u001b[0m in \u001b[0;36mtrain_one_epoch\u001b[0;34m(self, train_loader, criterion, optimizer, device)\u001b[0m\n\u001b[1;32m     48\u001b[0m             \u001b[0mloss\u001b[0m \u001b[0;34m=\u001b[0m \u001b[0mcriterion\u001b[0m\u001b[0;34m(\u001b[0m\u001b[0moutput\u001b[0m\u001b[0;34m,\u001b[0m \u001b[0mtarget\u001b[0m\u001b[0;34m)\u001b[0m\u001b[0;34m\u001b[0m\u001b[0;34m\u001b[0m\u001b[0m\n\u001b[1;32m     49\u001b[0m             \u001b[0;31m# backward pass: compute gradient of the loss with respect to model parameters\u001b[0m\u001b[0;34m\u001b[0m\u001b[0;34m\u001b[0m\u001b[0;34m\u001b[0m\u001b[0m\n\u001b[0;32m---> 50\u001b[0;31m             \u001b[0mloss\u001b[0m\u001b[0;34m.\u001b[0m\u001b[0mbackward\u001b[0m\u001b[0;34m(\u001b[0m\u001b[0;34m)\u001b[0m\u001b[0;34m\u001b[0m\u001b[0;34m\u001b[0m\u001b[0m\n\u001b[0m\u001b[1;32m     51\u001b[0m             \u001b[0;31m# Calculate Accuracy\u001b[0m\u001b[0;34m\u001b[0m\u001b[0;34m\u001b[0m\u001b[0;34m\u001b[0m\u001b[0m\n\u001b[1;32m     52\u001b[0m             \u001b[0maccuracy\u001b[0m \u001b[0;34m=\u001b[0m \u001b[0;34m(\u001b[0m\u001b[0moutput\u001b[0m\u001b[0;34m.\u001b[0m\u001b[0margmax\u001b[0m\u001b[0;34m(\u001b[0m\u001b[0mdim\u001b[0m\u001b[0;34m=\u001b[0m\u001b[0;36m1\u001b[0m\u001b[0;34m)\u001b[0m \u001b[0;34m==\u001b[0m \u001b[0mtarget\u001b[0m\u001b[0;34m)\u001b[0m\u001b[0;34m.\u001b[0m\u001b[0mfloat\u001b[0m\u001b[0;34m(\u001b[0m\u001b[0;34m)\u001b[0m\u001b[0;34m.\u001b[0m\u001b[0mmean\u001b[0m\u001b[0;34m(\u001b[0m\u001b[0;34m)\u001b[0m\u001b[0;34m\u001b[0m\u001b[0;34m\u001b[0m\u001b[0m\n",
      "\u001b[0;32m~/Software/miniconda3/lib/python3.7/site-packages/torch/tensor.py\u001b[0m in \u001b[0;36mbackward\u001b[0;34m(self, gradient, retain_graph, create_graph)\u001b[0m\n\u001b[1;32m    219\u001b[0m                 \u001b[0mretain_graph\u001b[0m\u001b[0;34m=\u001b[0m\u001b[0mretain_graph\u001b[0m\u001b[0;34m,\u001b[0m\u001b[0;34m\u001b[0m\u001b[0;34m\u001b[0m\u001b[0m\n\u001b[1;32m    220\u001b[0m                 create_graph=create_graph)\n\u001b[0;32m--> 221\u001b[0;31m         \u001b[0mtorch\u001b[0m\u001b[0;34m.\u001b[0m\u001b[0mautograd\u001b[0m\u001b[0;34m.\u001b[0m\u001b[0mbackward\u001b[0m\u001b[0;34m(\u001b[0m\u001b[0mself\u001b[0m\u001b[0;34m,\u001b[0m \u001b[0mgradient\u001b[0m\u001b[0;34m,\u001b[0m \u001b[0mretain_graph\u001b[0m\u001b[0;34m,\u001b[0m \u001b[0mcreate_graph\u001b[0m\u001b[0;34m)\u001b[0m\u001b[0;34m\u001b[0m\u001b[0;34m\u001b[0m\u001b[0m\n\u001b[0m\u001b[1;32m    222\u001b[0m \u001b[0;34m\u001b[0m\u001b[0m\n\u001b[1;32m    223\u001b[0m     \u001b[0;32mdef\u001b[0m \u001b[0mregister_hook\u001b[0m\u001b[0;34m(\u001b[0m\u001b[0mself\u001b[0m\u001b[0;34m,\u001b[0m \u001b[0mhook\u001b[0m\u001b[0;34m)\u001b[0m\u001b[0;34m:\u001b[0m\u001b[0;34m\u001b[0m\u001b[0;34m\u001b[0m\u001b[0m\n",
      "\u001b[0;32m~/Software/miniconda3/lib/python3.7/site-packages/torch/autograd/__init__.py\u001b[0m in \u001b[0;36mbackward\u001b[0;34m(tensors, grad_tensors, retain_graph, create_graph, grad_variables)\u001b[0m\n\u001b[1;32m    130\u001b[0m     Variable._execution_engine.run_backward(\n\u001b[1;32m    131\u001b[0m         \u001b[0mtensors\u001b[0m\u001b[0;34m,\u001b[0m \u001b[0mgrad_tensors_\u001b[0m\u001b[0;34m,\u001b[0m \u001b[0mretain_graph\u001b[0m\u001b[0;34m,\u001b[0m \u001b[0mcreate_graph\u001b[0m\u001b[0;34m,\u001b[0m\u001b[0;34m\u001b[0m\u001b[0;34m\u001b[0m\u001b[0m\n\u001b[0;32m--> 132\u001b[0;31m         allow_unreachable=True)  # allow_unreachable flag\n\u001b[0m\u001b[1;32m    133\u001b[0m \u001b[0;34m\u001b[0m\u001b[0m\n\u001b[1;32m    134\u001b[0m \u001b[0;34m\u001b[0m\u001b[0m\n",
      "\u001b[0;31mKeyboardInterrupt\u001b[0m: "
     ]
    }
   ],
   "source": [
    "logs = fit_tpu(\n",
    "            model=model,\n",
    "            epochs=10,\n",
    "            device=device,\n",
    "            criterion=criterion,\n",
    "            optimizer=optimizer,\n",
    "            train_loader=train_loader,\n",
    "            valid_loader=test_loader,\n",
    "        )"
   ]
  },
  {
   "cell_type": "code",
   "execution_count": null,
   "id": "7d173482",
   "metadata": {},
   "outputs": [],
   "source": []
  }
 ],
 "metadata": {
  "kernelspec": {
   "display_name": "PyTorch",
   "language": "python",
   "name": "pytorch"
  },
  "language_info": {
   "codemirror_mode": {
    "name": "ipython",
    "version": 3
   },
   "file_extension": ".py",
   "mimetype": "text/x-python",
   "name": "python",
   "nbconvert_exporter": "python",
   "pygments_lexer": "ipython3",
   "version": "3.7.11"
  }
 },
 "nbformat": 4,
 "nbformat_minor": 5
}
