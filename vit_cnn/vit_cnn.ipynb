{
 "cells": [
  {
   "cell_type": "code",
   "execution_count": 1,
   "id": "568eaf3f",
   "metadata": {},
   "outputs": [],
   "source": [
    "import numpy as np\n",
    "import pandas as pd\n",
    "\n",
    "import torch\n",
    "import torch.nn as nn\n",
    "import torchvision.transforms as transforms\n",
    "from torch.utils.data import Dataset, DataLoader\n",
    "import timm\n",
    "\n",
    "from sklearn.model_selection import train_test_split\n",
    "\n",
    "from PIL import Image, ImageOps\n",
    "from transformers import ViTFeatureExtractor, ViTForImageClassification\n",
    "\n",
    "from memory_profiler import memory_usage\n",
    "import random\n",
    "import os\n",
    "import gc\n",
    "from astropy.io import fits\n",
    "\n",
    "from skimage import io\n",
    "import matplotlib.pyplot as plt\n",
    "#If using script on terminal\n",
    "#from tqdm import tqdm\n",
    "from tqdm.notebook import tqdm\n",
    "\n",
    "from astropy.visualization import make_lupton_rgb\n",
    "plt.style.use('dark_background')"
   ]
  },
  {
   "cell_type": "code",
   "execution_count": 2,
   "id": "459bd466",
   "metadata": {},
   "outputs": [],
   "source": [
    "def seed_everything(seed):\n",
    "    \"\"\"\n",
    "    Seeds basic parameters for reproductibility of results\n",
    "    Arguments:\n",
    "        seed {int} -- Number of the seed\n",
    "    \"\"\"\n",
    "    random.seed(seed)\n",
    "    os.environ[\"PYTHONHASHSEED\"] = str(seed)\n",
    "    np.random.seed(seed)\n",
    "    torch.manual_seed(seed)\n",
    "    torch.cuda.manual_seed(seed)\n",
    "    torch.backends.cudnn.deterministic = True\n",
    "    torch.backends.cudnn.benchmark = False"
   ]
  },
  {
   "cell_type": "code",
   "execution_count": 3,
   "id": "684b61b8",
   "metadata": {},
   "outputs": [],
   "source": [
    "class ImageDataset(Dataset):\n",
    "    \"\"\"Dataset of Images, Data and Labels\"\"\"\n",
    "\n",
    "    def __init__(self, images, data, labels, transform=None):\n",
    "        \"\"\"\n",
    "        Create a PyTorch dataset from an array of images\n",
    "\t\tand an array of labels\n",
    "        \"\"\"\n",
    "        super().__init__()\n",
    "        self.images = images\n",
    "        self.data = data\n",
    "        self.labels = labels\n",
    "        self.transform = transform\n",
    "\n",
    "    def __len__(self):\n",
    "        return len(self.labels)\n",
    "\n",
    "    def __getitem__(self, idx):\n",
    "        #return python image given the index\n",
    "        image = self.images[idx]\n",
    "        \"\"\"\n",
    "        #Plotting with Astropy and saving as png (not used right now)\n",
    "        print('Astropy')\n",
    "        rgb = make_lupton_rgb(image[2], image[1], image[0], Q=11., stretch=40.)\n",
    "        plt.imshow(rgb, aspect='equal')\n",
    "        plt.savefig('Image.png', bbox_inches='tight')\n",
    "        plt.close()\n",
    "        new_image = Image.open('Image.png')\n",
    "        return(new_image)\n",
    "        \"\"\"\n",
    "        new_image = np.empty((3, 46, 46))\n",
    "        new_image[0], new_image[1], new_image[2] =  self.normalize_image(image)\n",
    "        new_image = new_image.transpose(1,2,0)\n",
    "        new_image = Image.fromarray(np.uint8(255*new_image)).convert(\"RGB\")\n",
    "        label = self.labels[idx]\n",
    "        data_point = self.data.iloc[idx].to_dict()\n",
    "        sample = {'image': self.transform(new_image), 'label': label, 'img': image, 'data': data_point}\n",
    "        return sample\n",
    "    \n",
    "    def normalize_image(self, image):\n",
    "        image_g = (image[0]-np.mean(image[0]))/ np.std(image[0])\n",
    "        image_r = (image[1]-np.mean(image[1]))/ np.std(image[1])\n",
    "        image_i = (image[2]-np.mean(image[2]))/ np.std(image[2])\n",
    "\n",
    "        image_g = (image_g-np.min(image_g))/ (np.max(image_g) - np.min(image_g))\n",
    "        image_r = (image_r-np.min(image_r))/ (np.max(image_r) - np.min(image_r))\n",
    "        image_i = (image_i-np.min(image_i))/ (np.max(image_i) - np.min(image_i))\n",
    "        return(image_i, image_r, image_g)\n",
    "    \n",
    "    def plot_image(self, idx):\n",
    "        image = images[idx]\n",
    "        new_image = np.empty((3, 46, 46))\n",
    "        new_image[0], new_image[1], new_image[2] =  self.normalize_image(image)\n",
    "        new_image = new_image.transpose(1,2,0)\n",
    "        new_image = Image.fromarray(np.uint8(255*new_image)).convert(\"RGB\")\n",
    "        \n",
    "        plt.figure(figsize=(12,4)) \n",
    "        \n",
    "        plt.subplot(1,2,1)\n",
    "        plt.imshow(np.asarray(new_image))\n",
    "        plt.axis('off')\n",
    "        \n",
    "        plt.subplot(1,2,2)\n",
    "        rgb = make_lupton_rgb(image[2], image[1], image[0], Q=11., stretch=40.)\n",
    "        plt.imshow(rgb, aspect='equal')\n",
    "        plt.axis('off')\n",
    "        \n",
    "        plt.show()"
   ]
  },
  {
   "cell_type": "code",
   "execution_count": 4,
   "id": "b39e738e",
   "metadata": {},
   "outputs": [],
   "source": [
    "def make_train_test_datasets(images, data, labels, test_size=0.2, transform=None):\n",
    "    \"\"\"\n",
    "\tMake training and testing datasets\n",
    "\t\n",
    "\tArgs:\n",
    "\t    images: 3D array of all images\n",
    "        labels: 1D array of the labels for each image\n",
    "        test_size: the fraction of the images to use as the test dataset\n",
    "\t\ttransform: the PyTorch transformation to apply to the data\n",
    "\t\t\n",
    "\tReturns\n",
    "\t    train_dataset: An instance of the ImageDataset Class for training\n",
    "\t\ttest_dataset: An instance of the ImageDataset Class for testing\n",
    "\t\"\"\"\n",
    "\n",
    "    # Shuffle and split data\n",
    "    y = labels\n",
    "    train_images, test_images, train_data, test_data, train_labels, test_labels = train_test_split(\n",
    "        images, data, labels, test_size=test_size, random_state=6, stratify=y)\n",
    "    \n",
    "    # Create a PyTorch Dataset\n",
    "    return (ImageDataset(train_images, train_data, train_labels, transform=transform),\n",
    "            ImageDataset(test_images, test_data, test_labels, transform=transform))"
   ]
  },
  {
   "cell_type": "code",
   "execution_count": 5,
   "id": "f0ba4b6f",
   "metadata": {},
   "outputs": [],
   "source": [
    "seed_everything(101)\n",
    "\n",
    "num_pos, num_neg = 40, 40\n",
    "num_workers = 0\n",
    "num_epochs = 1\n",
    "script = False\n",
    "\n",
    "\n",
    "hdu_list = fits.open('34.fits')\n",
    "idx = random.sample(range(len(hdu_list[1].data)), num_pos)\n",
    "images_pos = hdu_list[1].data[idx,:] \n",
    "data_pos = pd.DataFrame(hdu_list[2].data[:][idx])\n",
    "labels_pos = np.zeros(num_pos, dtype = np.int64)\n",
    "\n",
    "hdu_list = fits.open('negative_cases.fits')\n",
    "idx = random.sample(range(len(hdu_list[1].data)), num_neg)\n",
    "images_neg = hdu_list[1].data[idx,:] \n",
    "labels_neg = np.ones(num_neg, dtype = np.int64)\n",
    "#Data for negatives, all null\n",
    "num_columns = len(data_pos.columns)\n",
    "data_neg = np.full((num_neg, num_columns-1), 0)\n",
    "data_neg = pd.DataFrame(data_neg, columns=['zl/z1', 'm', 'iso', 'E', 'Magni 1'])\n",
    "last_column = ['NEG']*num_neg\n",
    "data_neg['ID'] = last_column\n",
    "\n",
    "images_dataset = np.concatenate((images_pos, images_neg)).astype(np.float32)\n",
    "data_dataset = pd.concat([data_pos, data_neg], axis=0).reset_index(drop=True)\n",
    "labels_dataset = np.concatenate((labels_pos,labels_neg), dtype = np.int64)\n",
    "\n",
    "transform = transforms.Compose([\n",
    "            transforms.Resize((224, 224)),\n",
    "            transforms.ToTensor(),\n",
    "            transforms.Normalize((0.485, 0.456, 0.406), (0.229, 0.224, 0.225))])"
   ]
  },
  {
   "cell_type": "code",
   "execution_count": 6,
   "id": "1080b66c",
   "metadata": {},
   "outputs": [
    {
     "name": "stdout",
     "output_type": "stream",
     "text": [
      "Len train dataset: 64, len test dataset: 16\n"
     ]
    }
   ],
   "source": [
    "train_dataset, test_dataset = make_train_test_datasets(images_dataset, data_dataset, labels_dataset, test_size=0.2, transform=transform)\n",
    "print('Len train dataset: {}, len test dataset: {}'.format(len(train_dataset), len(test_dataset)))"
   ]
  },
  {
   "cell_type": "code",
   "execution_count": 7,
   "id": "a3061db0",
   "metadata": {},
   "outputs": [],
   "source": [
    "train_loader = torch.utils.data.DataLoader(dataset=train_dataset, batch_size=20, num_workers=num_workers, shuffle=True)\n",
    "test_loader = torch.utils.data.DataLoader(dataset=test_dataset, batch_size=20, num_workers=num_workers, shuffle=True)"
   ]
  },
  {
   "cell_type": "code",
   "execution_count": 8,
   "id": "2673e0cb",
   "metadata": {},
   "outputs": [
    {
     "data": {
      "text/plain": [
       "<All keys matched successfully>"
      ]
     },
     "execution_count": 8,
     "metadata": {},
     "output_type": "execute_result"
    }
   ],
   "source": [
    "model = timm.create_model(\"vit_base_patch16_224\", pretrained=True)\n",
    "path = 'jx_vit_base_p16_224-80ecf9dd.pth'\n",
    "model.load_state_dict(torch.load(path))"
   ]
  },
  {
   "cell_type": "code",
   "execution_count": 9,
   "id": "01310cf3",
   "metadata": {},
   "outputs": [],
   "source": [
    "class ViTBase16(nn.Module):\n",
    "    \n",
    "    def __init__(self, n_classes, pretrained=False):\n",
    "        \n",
    "        super(ViTBase16, self).__init__()\n",
    "        \n",
    "        self.model = timm.create_model(\"vit_base_patch16_224\", pretrained=True)\n",
    "        if (pretrained):\n",
    "            path = 'jx_vit_base_p16_224-80ecf9dd.pth'\n",
    "            self.model.load_state_dict(torch.load(path))\n",
    "\n",
    "        self.model.head = nn.Linear(self.model.head.in_features, n_classes)\n",
    "\n",
    "    def forward(self, x):\n",
    "\n",
    "        x = self.model(x)\n",
    "\n",
    "        return x\n",
    "\n",
    "    def train_one_epoch(self, train_loader, criterion, optimizer, device):\n",
    "        # keep track of training loss\n",
    "        epoch_loss = 0.0\n",
    "        epoch_accuracy = 0.0\n",
    "\n",
    "        ###################\n",
    "        # train the model #\n",
    "        ###################\n",
    "\n",
    "        self.model.train()\n",
    "\n",
    "        #for i, (data, target, sample_img, sample_data) in tqdm(enumerate(train_loader)):\n",
    "        for i, sample in enumerate(tqdm(train_loader)):\n",
    "\n",
    "            data, target, sample_img, sample_data = sample['image'], sample['label'] , sample['img'], sample['data']\n",
    "            \n",
    "            # move tensors to GPU if CUDA is available\n",
    "            if device.type == \"cuda\":\n",
    "                data, target = data.cuda(), target.cuda()\n",
    "\n",
    "            # clear the gradients of all optimized variables\n",
    "            optimizer.zero_grad()\n",
    "            # forward pass: compute predicted outputs by passing inputs to the model\n",
    "            output = self.forward(data)\n",
    "            #output = torch.squeeze(output)\n",
    "\n",
    "            #target = target.float()\n",
    "            # calculate the batch loss\n",
    "            loss = criterion(output, target)\n",
    "            # backward pass: compute gradient of the loss with respect to model parameters\n",
    "            loss.backward()\n",
    "            \n",
    "            # Calculate Accuracy\n",
    "            #accuracy = (output.argmax(dim=1) == target).float().mean()\n",
    "            accuracy = sum(output.argmax(dim=1) == target)\n",
    "            # update training loss and accuracy\n",
    "            epoch_loss += loss\n",
    "            epoch_accuracy += accuracy\n",
    "\n",
    "            optimizer.step()\n",
    "\n",
    "        return epoch_loss / len(train_loader.dataset), epoch_accuracy / len(train_loader.dataset)\n",
    "\n",
    "    def validate_one_epoch(self, valid_loader, criterion, device):\n",
    "        # keep track of validation loss\n",
    "        valid_loss = 0.0\n",
    "        valid_accuracy = 0.0\n",
    "\n",
    "        ######################\n",
    "        # validate the model #\n",
    "        ######################\n",
    "        self.model.eval()\n",
    "        for i, sample in enumerate(tqdm(valid_loader)):\n",
    "            data, target, sample_img, sample_data = sample['image'], sample['label'] , sample['img'], sample['data']\n",
    "            \n",
    "            # move tensors to GPU if CUDA is available\n",
    "            if device.type == \"cuda\":\n",
    "                data, target = data.cuda(), target.cuda()\n",
    "\n",
    "            with torch.no_grad():\n",
    "                # forward pass: compute predicted outputs by passing inputs to the model\n",
    "                output = self.model(data)\n",
    "                # calculate the batch loss\n",
    "                loss = criterion(output, target)\n",
    "                # Calculate Accuracy\n",
    "                #accuracy = (output.argmax(dim=1) == target).float().mean()\n",
    "                accuracy = sum(output.argmax(dim=1) == target)\n",
    "                # update average validation loss and accuracy\n",
    "                valid_loss += loss\n",
    "                valid_accuracy += accuracy\n",
    "\n",
    "        return valid_loss / len(valid_loader.dataset), valid_accuracy / len(valid_loader.dataset)"
   ]
  },
  {
   "cell_type": "code",
   "execution_count": 10,
   "id": "1e5c52e0",
   "metadata": {},
   "outputs": [
    {
     "name": "stdout",
     "output_type": "stream",
     "text": [
      "cpu\n"
     ]
    }
   ],
   "source": [
    "model = ViTBase16(n_classes=2, pretrained=True)\n",
    "\n",
    "# Start training processes\n",
    "device = torch.device(\"cuda\")\n",
    "\n",
    "criterion = nn.CrossEntropyLoss()\n",
    "device = torch.device(\"cuda\" if torch.cuda.is_available() else \"cpu\")\n",
    "print(device)\n",
    "model.to(device)\n",
    "\n",
    "learning_rate = 0.0001\n",
    "optimizer = torch.optim.Adam(model.parameters(), lr=learning_rate)"
   ]
  },
  {
   "cell_type": "code",
   "execution_count": 11,
   "id": "bec16e6d",
   "metadata": {},
   "outputs": [],
   "source": [
    "def fit_tpu(model, name_model, epochs, device, criterion, optimizer, train_loader, valid_loader=None):\n",
    "    \n",
    "    best_val_acc = 0.0 # track of best accuracy\n",
    "\n",
    "    # keeping track of losses as it happen\n",
    "    train_losses = []\n",
    "    valid_losses = []\n",
    "    train_accs = []\n",
    "    valid_accs = []\n",
    "\n",
    "    for epoch in range(1, epochs + 1):\n",
    "        gc.collect()\n",
    "        \n",
    "        print(f\"{'=' * 100}\")\n",
    "        print(f\"EPOCH {epoch} - TRAINING...\")\n",
    "        train_loss, train_acc = model.train_one_epoch(train_loader, criterion, optimizer, device)\n",
    "        print(f\"\\n\\t[TRAIN] EPOCH {epoch} - LOSS: {train_loss}, ACCURACY: {train_acc}\\n\")\n",
    "        train_losses.append(train_loss)\n",
    "        train_accs.append(train_acc)\n",
    "        gc.collect()\n",
    "\n",
    "        # moves towards valid_loader\n",
    "        print(\"start valid_loader\")\n",
    "\n",
    "        if valid_loader is not None:\n",
    "            gc.collect()\n",
    "            print(f\"EPOCH {epoch} - VALIDATING...\")\n",
    "            valid_loss, valid_acc = model.validate_one_epoch(valid_loader, criterion, device)\n",
    "            print(f\"\\t[VALID] LOSS: {valid_loss}, ACCURACY: {valid_acc}\\n\")\n",
    "            valid_losses.append(valid_loss)\n",
    "            valid_accs.append(valid_acc)\n",
    "            gc.collect()\n",
    "\n",
    "            if(valid_acc > best_val_acc):\n",
    "                setattr(model, 'loss_train', train_losses)\n",
    "                setattr(model, 'loss_valid', valid_losses)\n",
    "                setattr(model, 'train_acc', train_accs)\n",
    "                setattr(model, 'validation_acc', valid_accs)\n",
    "                torch.save(model, name_model)\n",
    "                best_val_acc = valid_acc\n",
    "    \"\"\"\n",
    "    return {\n",
    "        \"train_loss\": train_losses,\n",
    "        \"valid_losses\": valid_losses,\n",
    "        \"train_acc\": train_accs,\n",
    "        \"valid_acc\": valid_accs,\n",
    "    }\"\"\""
   ]
  },
  {
   "cell_type": "code",
   "execution_count": 12,
   "id": "e443a614",
   "metadata": {},
   "outputs": [],
   "source": [
    "def plot_performance(cnn):\n",
    "    loss_train = [x.item() for x in cnn.loss_train]\n",
    "    loss_valid = [x.item() for x in cnn.loss_valid]\n",
    "    train_acc = [x.item() for x in cnn.train_acc]\n",
    "    valid_acc = [x.item() for x in cnn.validation_acc]\n",
    "    \n",
    "    x = np.linspace(1,len(cnn.loss_train),len(cnn.loss_train))\n",
    "    fig, (ax1, ax2) = plt.subplots(figsize=(16, 7), ncols=2)\n",
    "    \n",
    "    ax1.set_title('Losses')\n",
    "    ax1.set_xlabel('Epoch')\n",
    "    ax1.scatter(x, loss_train, color = 'skyblue', alpha = 0.8, label = 'Training loss')\n",
    "    ax1.scatter(x, loss_valid, color = 'limegreen', alpha = 0.8,  label = 'Validation loss')\n",
    "    ax1.legend()\n",
    "    \n",
    "    ax2.set_title('Performance. Max: {:.4f}%'.format(cnn.validation_acc[-1].item()))\n",
    "    ax2.set_xlabel('Epoch')\n",
    "    ax2.scatter(x, train_acc, color = 'skyblue', alpha = 0.8,  label = 'Training Accuracy')\n",
    "    ax2.scatter(x, valid_acc, color = 'limegreen', alpha = 0.8,  label = 'Validation Accuracy')\n",
    "    ax2.legend()\n",
    "    \n",
    "    if(script):\n",
    "        plt.savefig('Performance.png', bbox_inches='tight')\n",
    "        plt.close()\n",
    "    else: \n",
    "        plt.show(block=True)\n",
    "    "
   ]
  },
  {
   "cell_type": "code",
   "execution_count": 13,
   "id": "7b3a9f33",
   "metadata": {
    "scrolled": true
   },
   "outputs": [],
   "source": [
    "name_model = 'other.pt'\n",
    "#                          model, name_model, epochs, device, criterion, optimizer, train_loader, valid_loader=None\n",
    "#mem_usage = memory_usage(( fit_tpu, (model, name_model, num_epochs, device, criterion, optimizer, train_loader, test_loader)))\n"
   ]
  },
  {
   "cell_type": "code",
   "execution_count": 14,
   "id": "fc3c0e18",
   "metadata": {},
   "outputs": [],
   "source": [
    "#print('Maximum memory usage: %s' % max(mem_usage))"
   ]
  },
  {
   "cell_type": "code",
   "execution_count": 15,
   "id": "7d173482",
   "metadata": {},
   "outputs": [
    {
     "name": "stdout",
     "output_type": "stream",
     "text": [
      "Maximum validation accuracy: 50.00%\n"
     ]
    }
   ],
   "source": [
    "name = 'other.pt'#'model.pt'#'other.pt' \n",
    "model = torch.load(name)\n",
    "print('Maximum validation accuracy: {:.2f}%'.format(100*model.validation_acc[-1].item()))"
   ]
  },
  {
   "cell_type": "code",
   "execution_count": 16,
   "id": "5973b11f",
   "metadata": {
    "scrolled": false
   },
   "outputs": [
    {
     "data": {
      "image/png": "[encoded data removed]",
      "text/plain": [
       "<Figure size 1152x504 with 2 Axes>"
      ]
     },
     "metadata": {},
     "output_type": "display_data"
    }
   ],
   "source": [
    "plot_performance(model)"
   ]
  },
  {
   "cell_type": "code",
   "execution_count": 17,
   "id": "4e20c8bb",
   "metadata": {},
   "outputs": [],
   "source": [
    "new_test_loader = torch.utils.data.DataLoader(dataset=test_dataset, batch_size=1, num_workers=num_workers, shuffle=True)"
   ]
  },
  {
   "cell_type": "code",
   "execution_count": 18,
   "id": "9f14ded7",
   "metadata": {
    "scrolled": false
   },
   "outputs": [],
   "source": [
    "def testing_analysis(prob_lim):\n",
    "    right_pos_img, wrong_pos_img = np.zeros((1,3,46,46)), np.zeros((1,3,46,46))\n",
    "    right_neg_img, wrong_neg_img = np.zeros((1,3,46,46)), np.zeros((1,3,46,46))\n",
    "    columns = ['zl/z1', 'm', 'iso', 'E', 'Magni 1', 'ID', 'Prob']\n",
    "    prob_list = []\n",
    "    right_pos, wrong_pos = pd.DataFrame(columns=columns), pd.DataFrame(columns=columns)\n",
    "    right_neg, wrong_neg = pd.DataFrame(columns=columns), pd.DataFrame(columns=columns)\n",
    "\n",
    "    for i_batch, sample in enumerate(tqdm(new_test_loader)):\n",
    "        sample_image, sample_label, sample_img, sample_data = sample['image'], sample['label'] , sample['img'], sample['data']\n",
    "    \n",
    "        #if(i_batch <= 50): continue\n",
    "        output = model(sample_image)\n",
    "        predicted = output.argmax(dim=1).item()\n",
    "        my_df = pd.DataFrame.from_dict(sample_data)\n",
    "    \n",
    "        prob = nn.Softmax(dim=1)(output)\n",
    "        prob = prob[:,0].detach().numpy()[0]\n",
    "        prob_list.append(prob)\n",
    "    \n",
    "        predicted = 0 if prob >= prob_lim else 1\n",
    "    \n",
    "        new_df = pd.DataFrame.from_dict(sample_data)\n",
    "        new_df['Prob'] = prob\n",
    "    \n",
    "        if(sample_label.item() == 0 and predicted == 0):\n",
    "            right_pos_img = np.append(right_pos_img, [np.array(sample_img[0])], axis = 0)\n",
    "            right_pos = right_pos.append(new_df, ignore_index=True)\n",
    "        elif(sample_label.item() == 0 and predicted == 1):\n",
    "            wrong_pos_img = np.append(wrong_pos_img, [np.array(sample_img[0])], axis = 0)\n",
    "            wrong_pos = wrong_pos.append(new_df, ignore_index=True)\n",
    "        if(sample_label.item() == 1 and predicted == 1): \n",
    "            right_neg_img = np.append(right_neg_img, [np.array(sample_img[0])], axis = 0)\n",
    "            right_neg = right_neg.append(new_df, ignore_index=True)\n",
    "        elif(sample_label.item() == 1 and predicted == 0): \n",
    "            wrong_neg_img = np.append(wrong_neg_img, [np.array(sample_img[0])], axis = 0)\n",
    "            wrong_neg = wrong_neg.append(new_df, ignore_index=True)\n",
    "    \n",
    "    \n",
    "    right_pos_img = np.delete(right_pos_img, 0, axis = 0)\n",
    "    wrong_pos_img = np.delete(wrong_pos_img, 0, axis = 0)\n",
    "    right_neg_img = np.delete(right_neg_img, 0, axis = 0)\n",
    "    wrong_neg_img = np.delete(wrong_neg_img, 0, axis = 0)\n",
    "    \n",
    "    FPR = len(wrong_neg_img)/(len(wrong_neg_img) + len(right_neg_img))*100\n",
    "    TPR = len(right_pos_img)/(len(right_pos_img) + len(wrong_pos_img))*100\n",
    "    \n",
    "    images = [right_pos_img, wrong_pos_img, right_neg_img, wrong_neg_img]\n",
    "    data = [right_pos, wrong_pos, right_neg, wrong_neg]\n",
    "    rates = [FPR, TPR]\n",
    "    \n",
    "    return(images, data, rates, prob_list)\n"
   ]
  },
  {
   "cell_type": "code",
   "execution_count": 19,
   "id": "ec20c8e2",
   "metadata": {},
   "outputs": [
    {
     "data": {
      "application/vnd.jupyter.widget-view+json": {
       "model_id": "1eceeae152ec455a871cb61835e554b0",
       "version_major": 2,
       "version_minor": 0
      },
      "text/plain": [
       "  0%|          | 0/16 [00:00<?, ?it/s]"
      ]
     },
     "metadata": {},
     "output_type": "display_data"
    }
   ],
   "source": [
    "prob_lim = 0.5\n",
    "images, data, rates, prob_list = testing_analysis(prob_lim)\n",
    "right_pos_img, wrong_pos_img, right_neg_img, wrong_neg_img = images[0], images[1], images[2], images[3]\n",
    "right_pos, wrong_pos, right_neg, wrong_neg = data[0], data[1], data[2], data[3]\n",
    "FPR, TPR = rates[0], rates[1]"
   ]
  },
  {
   "cell_type": "code",
   "execution_count": 20,
   "id": "84bc0084",
   "metadata": {},
   "outputs": [],
   "source": [
    "def prob_distribution(prob_list):\n",
    "    plt.figure(figsize=(10,6))\n",
    "    plt.title('Probability labeled as Positive')\n",
    "    plt.hist(prob_list, 100, color = \"skyblue\")\n",
    "    if(script):\n",
    "        plt.savefig('Prob_Pos Distribution.png', bbox_inches='tight')\n",
    "        plt.close()\n",
    "    else: \n",
    "        plt.show()"
   ]
  },
  {
   "cell_type": "code",
   "execution_count": 21,
   "id": "343b2cc3",
   "metadata": {},
   "outputs": [],
   "source": [
    "#prob_distribution(prob_list)"
   ]
  },
  {
   "cell_type": "code",
   "execution_count": 22,
   "id": "e15d1863",
   "metadata": {},
   "outputs": [
    {
     "name": "stdout",
     "output_type": "stream",
     "text": [
      "Right positives: (8, 3, 46, 46)\n",
      "Wrong positives: (0, 3, 46, 46)\n",
      "Right negatives: (0, 3, 46, 46)\n",
      "Wrong negatives: (8, 3, 46, 46)\n",
      "True positive rate: 100.0%\n",
      "False positive rate: 100.0%\n",
      "Mean prob. right positives: 0.7315616607666016\n",
      "Mean prob. wrong positives: nan\n",
      "Mean prob. right negatives: nan\n",
      "Mean prob. wrong negatives: 0.7343642115592957\n"
     ]
    }
   ],
   "source": [
    "\"\"\"\n",
    "print('Right positives: ' + str(right_pos_img.shape))\n",
    "print('Wrong positives: ' + str(wrong_pos_img.shape))\n",
    "print('Right negatives: ' + str(right_neg_img.shape))\n",
    "print('Wrong negatives: ' + str(wrong_neg_img.shape))\n",
    "print('True positive rate: ' + str(TPR) + '%')\n",
    "print('False positive rate: ' + str(FPR) + '%')\n",
    "print('Mean prob. right positives: ' + str(np.mean(right_pos['Prob'])))\n",
    "print('Mean prob. wrong positives: ' + str(np.mean(wrong_pos['Prob'])))\n",
    "print('Mean prob. right negatives: ' + str(np.mean(right_neg['Prob'])))\n",
    "print('Mean prob. wrong negatives: ' + str(np.mean(wrong_neg['Prob'])))\n",
    "\"\"\""
   ]
  },
  {
   "cell_type": "code",
   "execution_count": 23,
   "id": "a3bfebf1",
   "metadata": {},
   "outputs": [],
   "source": [
    "def make_plot_all(objects, title, prob_list):\n",
    "    #print(title)\n",
    "    for i in range(len(objects)):\n",
    "        if(i%4 == 0):\n",
    "            plt.figure(figsize=(12,8))\n",
    "            for j in range(4):\n",
    "                if(i+j > len(objects)-1): break\n",
    "                plt.subplot(1,4,j+1)\n",
    "                plt.title(prob_list[i+j])\n",
    "                rgb = make_lupton_rgb(objects[i+j][2], objects[i+j][1], objects[i+j][0], Q=11., stretch=40.)\n",
    "                plt.imshow(rgb, aspect='equal')\n",
    "                plt.xticks([], [])\n",
    "                plt.yticks([], []) \n",
    "            if(script):\n",
    "                plt.savefig(title+'_'+str(i+j), bbox_inches='tight')\n",
    "                plt.close()\n",
    "            else: \n",
    "                plt.show()\n",
    "                "
   ]
  },
  {
   "cell_type": "code",
   "execution_count": 24,
   "id": "c1d95cc2",
   "metadata": {},
   "outputs": [],
   "source": [
    "#make_plot_all(wrong_neg_img, 'Wrong negatives', wrong_neg['Prob'])"
   ]
  },
  {
   "cell_type": "code",
   "execution_count": 25,
   "id": "12749c72",
   "metadata": {},
   "outputs": [],
   "source": [
    "#make_plot_all(wrong_pos_img, 'Wrong positives', wrong_pos['Prob'])"
   ]
  },
  {
   "cell_type": "code",
   "execution_count": 26,
   "id": "747c4b76",
   "metadata": {},
   "outputs": [],
   "source": [
    "#make_plot_all(right_pos_img, 'Right positives', right_pos['Prob'])"
   ]
  },
  {
   "cell_type": "code",
   "execution_count": 27,
   "id": "d9991b04",
   "metadata": {},
   "outputs": [],
   "source": [
    "#make_plot_all(right_neg_img, 'Right negatives', right_neg['Prob'])"
   ]
  },
  {
   "cell_type": "code",
   "execution_count": 34,
   "id": "16f5fd1e",
   "metadata": {},
   "outputs": [
    {
     "name": "stdout",
     "output_type": "stream",
     "text": [
      "[0.         0.11111111 0.22222222 0.33333333 0.44444444 0.55555556\n",
      " 0.66666667 0.77777778 0.88888889 1.        ]\n"
     ]
    },
    {
     "data": {
      "application/vnd.jupyter.widget-view+json": {
       "model_id": "d78ba66a1dbe4ab19f6c4c509dec2be5",
       "version_major": 2,
       "version_minor": 0
      },
      "text/plain": [
       "  0%|          | 0/16 [00:00<?, ?it/s]"
      ]
     },
     "metadata": {},
     "output_type": "display_data"
    },
    {
     "data": {
      "application/vnd.jupyter.widget-view+json": {
       "model_id": "14c995a77ddb4e65b0156a7875970403",
       "version_major": 2,
       "version_minor": 0
      },
      "text/plain": [
       "  0%|          | 0/16 [00:00<?, ?it/s]"
      ]
     },
     "metadata": {},
     "output_type": "display_data"
    },
    {
     "data": {
      "application/vnd.jupyter.widget-view+json": {
       "model_id": "9b00e020f4ff4d028ce562ed3dc59ebe",
       "version_major": 2,
       "version_minor": 0
      },
      "text/plain": [
       "  0%|          | 0/16 [00:00<?, ?it/s]"
      ]
     },
     "metadata": {},
     "output_type": "display_data"
    },
    {
     "data": {
      "application/vnd.jupyter.widget-view+json": {
       "model_id": "ad8df5315abc4f1094cf70be76f82979",
       "version_major": 2,
       "version_minor": 0
      },
      "text/plain": [
       "  0%|          | 0/16 [00:00<?, ?it/s]"
      ]
     },
     "metadata": {},
     "output_type": "display_data"
    },
    {
     "data": {
      "application/vnd.jupyter.widget-view+json": {
       "model_id": "b610f2fde43c431088306696d55fe9ae",
       "version_major": 2,
       "version_minor": 0
      },
      "text/plain": [
       "  0%|          | 0/16 [00:00<?, ?it/s]"
      ]
     },
     "metadata": {},
     "output_type": "display_data"
    },
    {
     "data": {
      "application/vnd.jupyter.widget-view+json": {
       "model_id": "632cf846f17f4d2ba9ad5d9ffe791636",
       "version_major": 2,
       "version_minor": 0
      },
      "text/plain": [
       "  0%|          | 0/16 [00:00<?, ?it/s]"
      ]
     },
     "metadata": {},
     "output_type": "display_data"
    },
    {
     "data": {
      "application/vnd.jupyter.widget-view+json": {
       "model_id": "f01e33a6af2d4a10978571b9c1a2d8bd",
       "version_major": 2,
       "version_minor": 0
      },
      "text/plain": [
       "  0%|          | 0/16 [00:00<?, ?it/s]"
      ]
     },
     "metadata": {},
     "output_type": "display_data"
    },
    {
     "data": {
      "application/vnd.jupyter.widget-view+json": {
       "model_id": "728f60bf0c0c4de2a58590998418ed37",
       "version_major": 2,
       "version_minor": 0
      },
      "text/plain": [
       "  0%|          | 0/16 [00:00<?, ?it/s]"
      ]
     },
     "metadata": {},
     "output_type": "display_data"
    },
    {
     "data": {
      "application/vnd.jupyter.widget-view+json": {
       "model_id": "b2206b948c5b43148f88866a6ced70a2",
       "version_major": 2,
       "version_minor": 0
      },
      "text/plain": [
       "  0%|          | 0/16 [00:00<?, ?it/s]"
      ]
     },
     "metadata": {},
     "output_type": "display_data"
    },
    {
     "data": {
      "application/vnd.jupyter.widget-view+json": {
       "model_id": "c47add23e461423cb80de905ee8614d0",
       "version_major": 2,
       "version_minor": 0
      },
      "text/plain": [
       "  0%|          | 0/16 [00:00<?, ?it/s]"
      ]
     },
     "metadata": {},
     "output_type": "display_data"
    }
   ],
   "source": [
    "prob_lim = np.linspace(0, 1., 20)\n",
    "FPR_list, TPR_list = [], []\n",
    "for prob in prob_lim:\n",
    "    images, data, rates, prob_list = testing_analysis(prob)\n",
    "    FPR, TPR = rates[0], rates[1]\n",
    "    FPR_list.append(FPR)\n",
    "    TPR_list.append(TPR)"
   ]
  },
  {
   "cell_type": "code",
   "execution_count": 35,
   "id": "8fe98246",
   "metadata": {},
   "outputs": [],
   "source": [
    "def ROC_curve(FPR_list, TPR_list):\n",
    "    plt.figure(figsize=(6,6))\n",
    "    plt.plot(FPR_list, TPR_list, 'o')\n",
    "    if(script):\n",
    "        plt.savefig('ROC curve', bbox_inches='tight')\n",
    "        plt.close()\n",
    "    else:\n",
    "        plt.show()"
   ]
  },
  {
   "cell_type": "code",
   "execution_count": 36,
   "id": "6b1e1046",
   "metadata": {},
   "outputs": [
    {
     "data": {
      "image/png": "[encoded data removed]",
      "text/plain": [
       "<Figure size 432x432 with 1 Axes>"
      ]
     },
     "metadata": {},
     "output_type": "display_data"
    }
   ],
   "source": [
    "ROC_curve(FPR_list, TPR_list)"
   ]
  },
  {
   "cell_type": "code",
   "execution_count": null,
   "id": "efbb2073",
   "metadata": {},
   "outputs": [],
   "source": []
  }
 ],
 "metadata": {
  "kernelspec": {
   "display_name": "PyTorch",
   "language": "python",
   "name": "pytorch"
  },
  "language_info": {
   "codemirror_mode": {
    "name": "ipython",
    "version": 3
   },
   "file_extension": ".py",
   "mimetype": "text/x-python",
   "name": "python",
   "nbconvert_exporter": "python",
   "pygments_lexer": "ipython3",
   "version": "3.7.11"
  }
 },
 "nbformat": 4,
 "nbformat_minor": 5
}
