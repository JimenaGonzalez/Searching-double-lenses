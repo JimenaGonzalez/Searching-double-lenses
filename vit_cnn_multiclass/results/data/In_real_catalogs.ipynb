{
 "cells": [
  {
   "cell_type": "code",
   "execution_count": 1,
   "id": "421b5ed1",
   "metadata": {},
   "outputs": [],
   "source": [
    "import numpy as np\n",
    "import pandas as pd\n",
    "\n",
    "\n",
    "import random\n",
    "import os\n",
    "from astropy.io import fits\n",
    "from astropy.table import Table\n",
    "\n",
    "import matplotlib.pyplot as plt\n",
    "\n",
    "from astropy.visualization import make_lupton_rgb\n",
    "plt.style.use('dark_background')"
   ]
  },
  {
   "cell_type": "code",
   "execution_count": 2,
   "id": "7cdc2d95",
   "metadata": {},
   "outputs": [],
   "source": [
    "def make_plot_all(objects, data):\n",
    "    \n",
    "    for i in range(len(objects)):\n",
    "        if(i%4 == 0):\n",
    "            plt.figure(figsize=(10,6))\n",
    "            for j in range(4):\n",
    "                if(i+j > len(objects)-1): break\n",
    "                plt.subplot(1,4,j+1)\n",
    "                #title = 'Prob: {:.3f}, rank: {}'.format(data['Prob'].values[i+j], int(data['rank'].values[i+j]))\n",
    "                #print(data['COADD_OBJECT_ID'].values[i+j])\n",
    "                #print(data['Prob'].values[i+j], int(data['rank'].values[i+j]))\n",
    "                #plt.title(title)\n",
    "                rgb = make_lupton_rgb(objects[i+j][2], objects[i+j][1], objects[i+j][0], Q=11., stretch=40.)\n",
    "                plt.imshow(rgb, aspect='equal')\n",
    "                plt.xticks([], [])\n",
    "                plt.yticks([], []) \n",
    "            plt.show()"
   ]
  },
  {
   "cell_type": "code",
   "execution_count": 3,
   "id": "54d580e2",
   "metadata": {},
   "outputs": [
    {
     "name": "stdout",
     "output_type": "stream",
     "text": [
      "20642\n",
      "All sample:  140\n"
     ]
    }
   ],
   "source": [
    "hdu_list = fits.open('Unique_positives_complete.fits')\n",
    "print(len(hdu_list[1].data))\n",
    "images = hdu_list[1].data\n",
    "images = images[:,0:3,:,:]\n",
    "data = pd.DataFrame(hdu_list[2].data)\n",
    "hdu_list.close()\n",
    "\n",
    "path_cutouts = '/Users/jimenagonzalez/research/DSPL/Searching-double-lenses/real_lenses/Jack_Y6/'\n",
    "hdu_list = fits.open(path_cutouts + 'Cutouts/Jack_Y6.fits')\n",
    "lenses = hdu_list[1].data.astype(np.float32)\n",
    "data_pos = hdu_list[2].data\n",
    "data_pos = Table(data_pos)\n",
    "data_pos = data_pos.to_pandas()\n",
    "columns_data = data_pos.columns\n",
    "hdu_list.close()\n",
    "\n",
    "data_not = pd.read_csv(path_cutouts + 'not_in_cutouts.csv')\n",
    "data_not = data_not.astype({'COADD_OBJECT_ID': int})\n",
    "\n",
    "new_data = pd.merge(data_pos, data_not, indicator=True, how='outer').query('_merge==\"left_only\"').drop('_merge', axis=1)\n",
    "lenses = lenses[new_data.index]\n",
    "data_pos = data_pos.iloc[new_data.index].reset_index()\n",
    "\n",
    "print('All sample: ', len(lenses))"
   ]
  },
  {
   "cell_type": "code",
   "execution_count": 4,
   "id": "ad08b125",
   "metadata": {
    "scrolled": false
   },
   "outputs": [
    {
     "name": "stderr",
     "output_type": "stream",
     "text": [
      "/Users/jimenagonzalez/Software/miniconda3/lib/python3.7/site-packages/ipykernel_launcher.py:6: UserWarning: Boolean Series key will be reindexed to match DataFrame index.\n",
      "  \n",
      "/Users/jimenagonzalez/Software/miniconda3/lib/python3.7/site-packages/ipykernel_launcher.py:7: UserWarning: Boolean Series key will be reindexed to match DataFrame index.\n",
      "  import sys\n"
     ]
    },
    {
     "name": "stdout",
     "output_type": "stream",
     "text": [
      "94\n"
     ]
    }
   ],
   "source": [
    "#Jack\n",
    "N = 0\n",
    "numpix = 45\n",
    "images_sim = np.zeros((1,3,numpix,numpix))\n",
    "for i in range(len(lenses)):\n",
    "    data_tmp = data[data['RA'] < data_pos['RA'].iloc[i] + 0.05][data['RA'] > data_pos['RA'].iloc[i] - 0.05]\n",
    "    data_tmp = data_tmp[data['DEC'] < data_pos['DEC'].iloc[i] + 0.05][data_tmp['DEC'] > data_pos['DEC'].iloc[i] - 0.05]\n",
    "    if(len(data_tmp) >= 1):\n",
    "        images_sim = np.append(images_sim, [lenses[i]], axis = 0)\n",
    "        N += 1\n",
    "print(N)\n",
    "\n",
    "images_sim = np.delete(images_sim, 0, axis = 0)\n",
    "#make_plot_all(images_sim, data)"
   ]
  },
  {
   "cell_type": "code",
   "execution_count": 5,
   "id": "bd41e1a6",
   "metadata": {},
   "outputs": [
    {
     "name": "stdout",
     "output_type": "stream",
     "text": [
      "All sample:  496\n",
      "With lensing features inside of cutout:  457\n"
     ]
    }
   ],
   "source": [
    "path_cutouts = '/Users/jimenagonzalez/research/DSPL/Searching-double-lenses/real_lenses/Jacobs_Y6/'\n",
    "hdu_list = fits.open(path_cutouts + 'Cutouts/Jacobs_Y6.fits')\n",
    "lenses = hdu_list[1].data.astype(np.float32)\n",
    "data_pos = hdu_list[2].data\n",
    "data_pos = Table(data_pos)\n",
    "data_pos = data_pos.to_pandas()\n",
    "hdu_list.close()\n",
    "print('All sample: ', len(lenses))\n",
    "\n",
    "data_not = pd.read_csv(path_cutouts + 'not_in_cutouts.csv')\n",
    "data_not = data_not.astype({'COADD_OBJECT_ID': int})\n",
    "\n",
    "new_data = pd.merge(data_pos, data_not, indicator=True, how='outer').query('_merge==\"left_only\"').drop('_merge', axis=1)\n",
    "lenses = lenses[new_data.index]\n",
    "data_pos = data_pos.iloc[new_data.index].reset_index()\n",
    "\n",
    "print('With lensing features inside of cutout: ', len(data_pos))"
   ]
  },
  {
   "cell_type": "code",
   "execution_count": 6,
   "id": "7e2404e4",
   "metadata": {},
   "outputs": [
    {
     "name": "stderr",
     "output_type": "stream",
     "text": [
      "/Users/jimenagonzalez/Software/miniconda3/lib/python3.7/site-packages/ipykernel_launcher.py:6: UserWarning: Boolean Series key will be reindexed to match DataFrame index.\n",
      "  \n",
      "/Users/jimenagonzalez/Software/miniconda3/lib/python3.7/site-packages/ipykernel_launcher.py:7: UserWarning: Boolean Series key will be reindexed to match DataFrame index.\n",
      "  import sys\n"
     ]
    },
    {
     "name": "stdout",
     "output_type": "stream",
     "text": [
      "374\n"
     ]
    }
   ],
   "source": [
    "# Jacobs\n",
    "N = 0\n",
    "numpix = 45\n",
    "images_sim = np.zeros((1,3,numpix,numpix))\n",
    "for i in range(len(lenses)):\n",
    "    data_tmp = data[data['RA'] < data_pos['RA'].iloc[i] + 0.05][data['RA'] > data_pos['RA'].iloc[i] - 0.05]\n",
    "    data_tmp = data_tmp[data['DEC'] < data_pos['DEC'].iloc[i] + 0.05][data_tmp['DEC'] > data_pos['DEC'].iloc[i] - 0.05]\n",
    "    if(len(data_tmp) >= 1):\n",
    "        images_sim = np.append(images_sim, [lenses[i]], axis = 0)\n",
    "        N += 1\n",
    "print(N)\n",
    "\n",
    "images_sim = np.delete(images_sim, 0, axis = 0)\n",
    "#make_plot_all(images_sim, data)"
   ]
  }
 ],
 "metadata": {
  "kernelspec": {
   "display_name": "Python 3 (ipykernel)",
   "language": "python",
   "name": "python3"
  },
  "language_info": {
   "codemirror_mode": {
    "name": "ipython",
    "version": 3
   },
   "file_extension": ".py",
   "mimetype": "text/x-python",
   "name": "python",
   "nbconvert_exporter": "python",
   "pygments_lexer": "ipython3",
   "version": "3.7.13"
  }
 },
 "nbformat": 4,
 "nbformat_minor": 5
}
