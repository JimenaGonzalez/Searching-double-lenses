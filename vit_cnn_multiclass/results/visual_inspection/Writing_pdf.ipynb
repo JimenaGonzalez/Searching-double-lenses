{
 "cells": [
  {
   "cell_type": "code",
   "execution_count": 1,
   "id": "bc57023f",
   "metadata": {},
   "outputs": [],
   "source": [
    "import numpy as np\n",
    "import pandas as pd\n",
    "\n",
    "\n",
    "import random\n",
    "import os\n",
    "from astropy.io import fits\n",
    "from astropy.table import Table\n",
    "\n",
    "from PIL import Image, ImageOps\n",
    "from fpdf import FPDF\n",
    "\n",
    "import matplotlib.pyplot as plt\n",
    "from astropy.visualization import make_lupton_rgb\n",
    "plt.style.use('dark_background')"
   ]
  },
  {
   "cell_type": "code",
   "execution_count": 2,
   "id": "351de131",
   "metadata": {},
   "outputs": [
    {
     "name": "stdout",
     "output_type": "stream",
     "text": [
      "20642\n",
      "20639 20639\n"
     ]
    }
   ],
   "source": [
    "filepath = '/Users/jimenagonzalez/research/DSPL/Searching-double-lenses/vit_cnn_multiclass/results/data/'\n",
    "hdu_list = fits.open(filepath + 'Unique_positives_complete.fits')\n",
    "images = hdu_list[1].data\n",
    "images = images[:,0:3,:,:]\n",
    "data = pd.DataFrame(hdu_list[2].data)\n",
    "print(len(data))\n",
    "\n",
    "data = data.drop_duplicates(subset=['COADD_OBJECT_ID'], keep='first')\n",
    "images = images[data.index]\n",
    "#data = data.reset_index(drop = True)\n",
    "hdu_list.close()\n",
    "\n",
    "print(len(data), len(images))"
   ]
  },
  {
   "cell_type": "code",
   "execution_count": 3,
   "id": "7dd57f80",
   "metadata": {},
   "outputs": [],
   "source": [
    "def plot_image(coadd_id):\n",
    "    filepath = '/Users/jimenagonzalez/research/DSPL/Searching-double-lenses/vit_cnn_multiclass/results/data/'\n",
    "    hdu_list = fits.open(filepath + 'Unique_positives_complete.fits')\n",
    "    images = hdu_list[1].data\n",
    "    images = images[:,0:3,:,:]\n",
    "    data = pd.DataFrame(hdu_list[2].data)\n",
    "    print(len(data))\n",
    "    data = data.drop_duplicates(subset=['COADD_OBJECT_ID'], keep='first')\n",
    "    images = images[data.index]\n",
    "    hdu_list.close()\n",
    "\n",
    "    data_tmp = data[data['COADD_OBJECT_ID'] == coadd_id]\n",
    "    image_tmp = images[data_tmp.index][0]\n",
    "    \n",
    "    rgb = make_lupton_rgb(image_tmp[2], image_tmp[1], image_tmp[0], Q=11., stretch=40.)\n",
    "    \n",
    "    plt.figure(figsize=(1.5, 1.5))\n",
    "    plt.imshow(rgb, aspect='equal')\n",
    "    plt.xticks([], [])\n",
    "    plt.yticks([], []) \n",
    "    plt.show()\n",
    "    #plt.savefig(title, bbox_inches='tight')\n",
    "    #plt.close()"
   ]
  },
  {
   "cell_type": "code",
   "execution_count": 4,
   "id": "166ca4dd",
   "metadata": {},
   "outputs": [
    {
     "name": "stdout",
     "output_type": "stream",
     "text": [
      "20642\n"
     ]
    },
    {
     "data": {
      "image/png": "[encoded data removed]",
      "text/plain": [
       "<Figure size 150x150 with 1 Axes>"
      ]
     },
     "metadata": {},
     "output_type": "display_data"
    }
   ],
   "source": [
    "plot_image(1057397611)"
   ]
  },
  {
   "cell_type": "code",
   "execution_count": 5,
   "id": "f07d0e8d",
   "metadata": {},
   "outputs": [],
   "source": [
    "# Writes fit file\n",
    "def write_fit_file(name, x, data):\n",
    "    my_types = {'COADD_OBJECT_ID': int, 'TILENAME': str, 'PROB': float, 'HPIX_16384': int, 'HPIX_4096': int,\n",
    "       'DNF_ZMEAN_SOF': float, 'RA': float, 'DEC': float, 'FLUX_RADIUS_G': float, 'FLUX_RADIUS_R': float,\n",
    "       'FLUX_RADIUS_I': float, 'FLUX_RADIUS_Z': float, 'KRON_RADIUS': float, 'GAP_FLUX_G': float,\n",
    "       'MOF_BDF_FLUX_G': float, 'MOF_PSF_FLUX_G': float, 'SOF_BDF_FLUX_G': float, 'SOF_PSF_FLUX_G': float,\n",
    "       'MAG_AUTO_G': float, 'MAG_APER_4_G': float, 'MAG_APER_8_G': float, 'SOF_BDF_G_1': float,\n",
    "       'SOF_BDF_G_2': float, 'IMAFLAGS_ISO_G': int, 'IMAFLAGS_ISO_R': int, 'IMAFLAGS_ISO_I': int,\n",
    "       'IMAFLAGS_ISO_Z': int, 'EXT_COADD': int}\n",
    "    data = data.astype(my_types)\n",
    "    \n",
    "    primary = fits.PrimaryHDU()\n",
    "    image = fits.ImageHDU(x, name=\"IMAGE\")\n",
    "    table_data = Table.from_pandas(data)\n",
    "    table = fits.BinTableHDU(data = table_data)\n",
    "    hdu_list = fits.HDUList([primary, image, table])\n",
    "    hdu_list.writeto(filepath + name + '.fits', overwrite=True)   \n",
    "    hdu_list.close()"
   ]
  },
  {
   "cell_type": "code",
   "execution_count": 6,
   "id": "9175a830",
   "metadata": {},
   "outputs": [
    {
     "name": "stderr",
     "output_type": "stream",
     "text": [
      "/Users/jimenagonzalez/Software/miniconda3/lib/python3.7/site-packages/ipykernel_launcher.py:17: SettingWithCopyWarning: \n",
      "A value is trying to be set on a copy of a slice from a DataFrame.\n",
      "Try using .loc[row_indexer,col_indexer] = value instead\n",
      "\n",
      "See the caveats in the documentation: https://pandas.pydata.org/pandas-docs/stable/user_guide/indexing.html#returning-a-view-versus-a-copy\n",
      "  app.launch_new_instance()\n"
     ]
    }
   ],
   "source": [
    "# Systems for visual inspection\n",
    "data_tmp = data.sort_values('PROB', ascending=False)\n",
    "data_tmp = data_tmp.head(7000)\n",
    "data_tmp = data_tmp.sort_index()\n",
    "data_tmp.columns\n",
    "\n",
    "num = 1000 #1000\n",
    "\n",
    "# Writing a fit file for each group\n",
    "filepath = 'fit_files/'\n",
    "\n",
    "for i in range(7):\n",
    "    new_data = data_tmp.iloc[i*num: i*num + num]\n",
    "    new_images = images[new_data.index]\n",
    "    \n",
    "    new_id = list(range(i*num, i*num + num))\n",
    "    new_data['new_id'] = new_id\n",
    "    \n",
    "    new_data.to_csv('fit_files/group_' + str(i+1) + '.csv')\n",
    "    write_fit_file('group_' + str(i+1) , new_images, new_data)"
   ]
  },
  {
   "cell_type": "code",
   "execution_count": 7,
   "id": "742b5b7f",
   "metadata": {},
   "outputs": [],
   "source": [
    "def make_image(objects, data, title):\n",
    "    #new_title = 'Prob: {:.2f}'.format(data['PROB'])\n",
    "    rgb = make_lupton_rgb(objects[2], objects[1], objects[0], Q=11., stretch=40.)\n",
    "    plt.figure(figsize=(1.5, 1.5))\n",
    "    plt.imshow(rgb, aspect='equal')\n",
    "    plt.xticks([], [])\n",
    "    plt.yticks([], []) \n",
    "    plt.savefig(title, bbox_inches='tight')\n",
    "    plt.close()\n",
    "    #plt.show()"
   ]
  },
  {
   "cell_type": "code",
   "execution_count": 8,
   "id": "cd3bb2c7",
   "metadata": {
    "scrolled": true
   },
   "outputs": [
    {
     "name": "stdout",
     "output_type": "stream",
     "text": [
      "1000 1000\n",
      "After duplicated\n"
     ]
    }
   ],
   "source": [
    "# Writing all pdf files\n",
    "for j in range(7):\n",
    "    if(j != 0): continue\n",
    "    pdf = FPDF('L', 'mm', (80, 150))\n",
    "    \n",
    "    hdu_list = fits.open(filepath + 'group_' + str(j+1) + '.fits')\n",
    "    images_tmp = hdu_list[1].data \n",
    "    data_tmp = pd.DataFrame(hdu_list[2].data)\n",
    "    hdu_list.close()\n",
    "    \n",
    "    print(len(images_tmp), len(data_tmp))\n",
    "    \n",
    "    duplicates = data_tmp[data_tmp.duplicated(['COADD_OBJECT_ID'], keep=False)]\n",
    "    if(len(duplicates) > 0):\n",
    "        print(\"There are duplicates!\")\n",
    "    \n",
    "    print('After duplicated')\n",
    "    for i in range(len(images_tmp)):\n",
    "        new_image = images_tmp[i].transpose(1,2,0)\n",
    "        new_image = Image.fromarray(np.uint8(100*new_image)).convert(\"RGB\")\n",
    "    \n",
    "        title = 'Cutouts/' + str(data_tmp['COADD_OBJECT_ID'].iloc[i]) + '.png'\n",
    "    \n",
    "        make_image(images_tmp[i], data.iloc[i], title)\n",
    "        #width, height = new_image.size\n",
    "        pdf.add_page()\n",
    "        pdf.set_font(\"Arial\", size=24)\n",
    "        if(data_tmp['new_id'].iloc[i] % 20 == 0):\n",
    "            pdf.set_text_color(86,189,89)  \n",
    "        else:\n",
    "            pdf.set_text_color(0,0,0)\n",
    "        pdf.cell(0, 0, str(data_tmp['new_id'].iloc[i]), align=\"L\")\n",
    "        pdf.image(title, 3, 20)\n",
    "\n",
    "    pdf.output(\"pdf_files/Group_\" + str(j+1) + \".pdf\", \"F\")\n",
    "    "
   ]
  }
 ],
 "metadata": {
  "kernelspec": {
   "display_name": "Python 3 (ipykernel)",
   "language": "python",
   "name": "python3"
  },
  "language_info": {
   "codemirror_mode": {
    "name": "ipython",
    "version": 3
   },
   "file_extension": ".py",
   "mimetype": "text/x-python",
   "name": "python",
   "nbconvert_exporter": "python",
   "pygments_lexer": "ipython3",
   "version": "3.7.13"
  }
 },
 "nbformat": 4,
 "nbformat_minor": 5
}
