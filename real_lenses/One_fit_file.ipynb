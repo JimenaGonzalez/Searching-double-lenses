{
 "cells": [
  {
   "cell_type": "code",
   "execution_count": 1,
   "metadata": {},
   "outputs": [],
   "source": [
    "import numpy as np\n",
    "import pandas as pd\n",
    "import os\n",
    "import ipython_bell\n",
    "import random\n",
    "\n",
    "from astropy.io import fits\n",
    "from astropy.table import Table"
   ]
  },
  {
   "cell_type": "code",
   "execution_count": 2,
   "metadata": {},
   "outputs": [
    {
     "data": {
      "text/html": [
       "<div>\n",
       "<style scoped>\n",
       "    .dataframe tbody tr th:only-of-type {\n",
       "        vertical-align: middle;\n",
       "    }\n",
       "\n",
       "    .dataframe tbody tr th {\n",
       "        vertical-align: top;\n",
       "    }\n",
       "\n",
       "    .dataframe thead th {\n",
       "        text-align: right;\n",
       "    }\n",
       "</style>\n",
       "<table border=\"1\" class=\"dataframe\">\n",
       "  <thead>\n",
       "    <tr style=\"text-align: right;\">\n",
       "      <th></th>\n",
       "      <th>objectid</th>\n",
       "      <th>RA</th>\n",
       "      <th>dec</th>\n",
       "      <th>grade</th>\n",
       "      <th>photoz</th>\n",
       "      <th>imag</th>\n",
       "    </tr>\n",
       "  </thead>\n",
       "  <tbody>\n",
       "    <tr>\n",
       "      <th>0</th>\n",
       "      <td>139741252</td>\n",
       "      <td>0.59845</td>\n",
       "      <td>-35.12122</td>\n",
       "      <td>2.3</td>\n",
       "      <td>0.51</td>\n",
       "      <td>19.2</td>\n",
       "    </tr>\n",
       "    <tr>\n",
       "      <th>1</th>\n",
       "      <td>139823797</td>\n",
       "      <td>0.81825</td>\n",
       "      <td>-33.80120</td>\n",
       "      <td>2.7</td>\n",
       "      <td>0.68</td>\n",
       "      <td>19.3</td>\n",
       "    </tr>\n",
       "    <tr>\n",
       "      <th>2</th>\n",
       "      <td>142775105</td>\n",
       "      <td>1.68592</td>\n",
       "      <td>-44.49735</td>\n",
       "      <td>2.0</td>\n",
       "      <td>0.53</td>\n",
       "      <td>18.6</td>\n",
       "    </tr>\n",
       "    <tr>\n",
       "      <th>3</th>\n",
       "      <td>142779522</td>\n",
       "      <td>1.87201</td>\n",
       "      <td>-44.57949</td>\n",
       "      <td>3.0</td>\n",
       "      <td>0.52</td>\n",
       "      <td>18.1</td>\n",
       "    </tr>\n",
       "    <tr>\n",
       "      <th>4</th>\n",
       "      <td>182452355</td>\n",
       "      <td>2.62678</td>\n",
       "      <td>-43.25413</td>\n",
       "      <td>2.3</td>\n",
       "      <td>0.84</td>\n",
       "      <td>19.9</td>\n",
       "    </tr>\n",
       "  </tbody>\n",
       "</table>\n",
       "</div>"
      ],
      "text/plain": [
       "    objectid       RA       dec  grade  photoz  imag\n",
       "0  139741252  0.59845 -35.12122    2.3    0.51  19.2\n",
       "1  139823797  0.81825 -33.80120    2.7    0.68  19.3\n",
       "2  142775105  1.68592 -44.49735    2.0    0.53  18.6\n",
       "3  142779522  1.87201 -44.57949    3.0    0.52  18.1\n",
       "4  182452355  2.62678 -43.25413    2.3    0.84  19.9"
      ]
     },
     "execution_count": 2,
     "metadata": {},
     "output_type": "execute_result"
    }
   ],
   "source": [
    "data = pd.read_csv('data.csv', sep=',', usecols=[1,2,3,4,5,6])\n",
    "data.head()"
   ]
  },
  {
   "cell_type": "code",
   "execution_count": 3,
   "metadata": {},
   "outputs": [],
   "source": [
    "x = np.zeros((1,3,46,46))\n",
    "add_info = np.zeros((1, 6))\n",
    "table_data = Table(names = ['objectid', 'RA', 'dec', 'grade', 'photoz', 'imag'])\n",
    "path_cut = '/Users/jimenagonzalez/research/DSPL/Searching-double-lenses/real_lenses/cutouts/'\n",
    "end_name = ['_g.fits', '_i.fits', '_r.fits']\n",
    "\n",
    "for file in (os.listdir(path_cut)):\n",
    "    if(file[-6:] == 'g.fits'):\n",
    "        with fits.open(path_cut + file[:-7] + end_name[0]) as hdul: cutout_g = hdul[0].data\n",
    "        with fits.open(path_cut + file[:-7] + end_name[1]) as hdul: cutout_i = hdul[0].data\n",
    "        with fits.open(path_cut + file[:-7] + end_name[2]) as hdul: cutout_r = hdul[0].data\n",
    "        data_ele = data[data['objectid'] == int(file[:-7])]\n",
    "        table_data.add_row(data_ele.values[0])\n",
    "        \n",
    "        element = np.array([cutout_g, cutout_r, cutout_i])\n",
    "        x = np.append(x, [element], axis = 0)\n",
    "x = np.delete(x, 0, axis = 0)"
   ]
  },
  {
   "cell_type": "code",
   "execution_count": 4,
   "metadata": {},
   "outputs": [
    {
     "name": "stdout",
     "output_type": "stream",
     "text": [
      "  objectid          RA            dec    grade photoz imag\n",
      "----------- ------------------ --------- ----- ------ ----\n",
      "324211306.0 42.715709999999994 -16.16883   2.3    0.4 17.7\n",
      "343290165.0           47.33576 -38.09604   2.7   0.62 18.9\n",
      "        ...                ...       ...   ...    ...  ...\n",
      " 87591843.0           32.65344  -53.8646   2.7   0.51 19.7\n",
      "435151688.0           82.92694 -31.98092   2.0   0.56 18.7\n",
      "Length = 510 rows\n"
     ]
    }
   ],
   "source": [
    "table_data.pprint(5)"
   ]
  },
  {
   "cell_type": "code",
   "execution_count": 5,
   "metadata": {},
   "outputs": [],
   "source": [
    "name = 'real_lenses'\n",
    "primary = fits.PrimaryHDU()\n",
    "image = fits.ImageHDU(x, name=\"IMAGE\")\n",
    "table = fits.BinTableHDU(data = table_data)\n",
    "hdu_list = fits.HDUList([primary, image, table])\n",
    "hdu_list.writeto(path_cut + name + '.fits', overwrite=True)"
   ]
  }
 ],
 "metadata": {
  "kernelspec": {
   "display_name": "Python 3 (ipykernel)",
   "language": "python",
   "name": "python3"
  },
  "language_info": {
   "codemirror_mode": {
    "name": "ipython",
    "version": 3
   },
   "file_extension": ".py",
   "mimetype": "text/x-python",
   "name": "python",
   "nbconvert_exporter": "python",
   "pygments_lexer": "ipython3",
   "version": "3.7.11"
  }
 },
 "nbformat": 4,
 "nbformat_minor": 4
}
