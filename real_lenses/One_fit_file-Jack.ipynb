{
 "cells": [
  {
   "cell_type": "code",
   "execution_count": 1,
   "metadata": {},
   "outputs": [],
   "source": [
    "import numpy as np\n",
    "import pandas as pd\n",
    "import os\n",
    "import ipython_bell\n",
    "import random\n",
    "import codecs\n",
    "\n",
    "from astropy.io import fits\n",
    "from astropy.table import Table"
   ]
  },
  {
   "cell_type": "code",
   "execution_count": 2,
   "metadata": {},
   "outputs": [
    {
     "name": "stdout",
     "output_type": "stream",
     "text": [
      "Index(['name', 'ra', 'dec', 'comment', 'rank', 'num_sources', 'num_lenses',\n",
      "       'mem_match_id', 'einstein_radius', 'einstein_radius_err', 'ACT', 'BBNA',\n",
      "       'BNA', 'TI', 'RNA', 'RNA2', 'redM', 'redM_missed', 'SPTPol', 'algo',\n",
      "       'D17', 'J1', 'J2', 'aliases'],\n",
      "      dtype='object')\n"
     ]
    },
    {
     "data": {
      "text/html": [
       "<div>\n",
       "<style scoped>\n",
       "    .dataframe tbody tr th:only-of-type {\n",
       "        vertical-align: middle;\n",
       "    }\n",
       "\n",
       "    .dataframe tbody tr th {\n",
       "        vertical-align: top;\n",
       "    }\n",
       "\n",
       "    .dataframe thead th {\n",
       "        text-align: right;\n",
       "    }\n",
       "</style>\n",
       "<table border=\"1\" class=\"dataframe\">\n",
       "  <thead>\n",
       "    <tr style=\"text-align: right;\">\n",
       "      <th></th>\n",
       "      <th>name</th>\n",
       "      <th>ra</th>\n",
       "      <th>dec</th>\n",
       "      <th>comment</th>\n",
       "      <th>rank</th>\n",
       "      <th>num_sources</th>\n",
       "      <th>num_lenses</th>\n",
       "      <th>mem_match_id</th>\n",
       "      <th>einstein_radius</th>\n",
       "      <th>einstein_radius_err</th>\n",
       "      <th>...</th>\n",
       "      <th>RNA</th>\n",
       "      <th>RNA2</th>\n",
       "      <th>redM</th>\n",
       "      <th>redM_missed</th>\n",
       "      <th>SPTPol</th>\n",
       "      <th>algo</th>\n",
       "      <th>D17</th>\n",
       "      <th>J1</th>\n",
       "      <th>J2</th>\n",
       "      <th>aliases</th>\n",
       "    </tr>\n",
       "  </thead>\n",
       "  <tbody>\n",
       "    <tr>\n",
       "      <th>0</th>\n",
       "      <td>DESJ0002-3332</td>\n",
       "      <td>0.527213</td>\n",
       "      <td>-33.544062</td>\n",
       "      <td>Not D17,  not J1,  not J2</td>\n",
       "      <td>4</td>\n",
       "      <td>2</td>\n",
       "      <td>2</td>\n",
       "      <td>-1</td>\n",
       "      <td>5.689696</td>\n",
       "      <td>0.828114</td>\n",
       "      <td>...</td>\n",
       "      <td>False</td>\n",
       "      <td>False</td>\n",
       "      <td>False</td>\n",
       "      <td>False</td>\n",
       "      <td>False</td>\n",
       "      <td>['BNA']</td>\n",
       "      <td>False</td>\n",
       "      <td>False</td>\n",
       "      <td>False</td>\n",
       "      <td>[]</td>\n",
       "    </tr>\n",
       "  </tbody>\n",
       "</table>\n",
       "<p>1 rows × 24 columns</p>\n",
       "</div>"
      ],
      "text/plain": [
       "            name        ra        dec                    comment  rank  \\\n",
       "0  DESJ0002-3332  0.527213 -33.544062  Not D17,  not J1,  not J2     4   \n",
       "\n",
       "   num_sources  num_lenses  mem_match_id  einstein_radius  \\\n",
       "0            2           2            -1         5.689696   \n",
       "\n",
       "   einstein_radius_err  ...    RNA   RNA2   redM  redM_missed  SPTPol  \\\n",
       "0             0.828114  ...  False  False  False        False   False   \n",
       "\n",
       "      algo    D17     J1     J2 aliases  \n",
       "0  ['BNA']  False  False  False      []  \n",
       "\n",
       "[1 rows x 24 columns]"
      ]
     },
     "execution_count": 2,
     "metadata": {},
     "output_type": "execute_result"
    }
   ],
   "source": [
    "data = pd.read_csv('cutouts_Jack/y3_lens_search_systems_with_radii.csv', sep=',')#, usecols=[1,2,3,4,5,6])\n",
    "print(data.columns)\n",
    "data.head(1)"
   ]
  },
  {
   "cell_type": "code",
   "execution_count": 3,
   "metadata": {},
   "outputs": [
    {
     "name": "stdout",
     "output_type": "stream",
     "text": [
      "Index(['RA', 'DEC', 'COADD_OBJECT_ID', 'TILENAME', 'XSIZE', 'YSIZE',\n",
      "       'MAKE_FITS', 'COLORS_FITS', 'MAKE_RGB_STIFF', 'RGB_STIFF_COLORS',\n",
      "       'MAKE_RGB_LUPTON', 'RGB_LUPTON_COLORS', 'SEXAGECIMAL', 'RGB_MINIMUM',\n",
      "       'RGB_STRETCH', 'RGB_ASINH'],\n",
      "      dtype='object')\n"
     ]
    },
    {
     "data": {
      "text/html": [
       "<div>\n",
       "<style scoped>\n",
       "    .dataframe tbody tr th:only-of-type {\n",
       "        vertical-align: middle;\n",
       "    }\n",
       "\n",
       "    .dataframe tbody tr th {\n",
       "        vertical-align: top;\n",
       "    }\n",
       "\n",
       "    .dataframe thead th {\n",
       "        text-align: right;\n",
       "    }\n",
       "</style>\n",
       "<table border=\"1\" class=\"dataframe\">\n",
       "  <thead>\n",
       "    <tr style=\"text-align: right;\">\n",
       "      <th></th>\n",
       "      <th>RA</th>\n",
       "      <th>DEC</th>\n",
       "      <th>COADD_OBJECT_ID</th>\n",
       "      <th>TILENAME</th>\n",
       "      <th>XSIZE</th>\n",
       "      <th>YSIZE</th>\n",
       "      <th>MAKE_FITS</th>\n",
       "      <th>COLORS_FITS</th>\n",
       "      <th>MAKE_RGB_STIFF</th>\n",
       "      <th>RGB_STIFF_COLORS</th>\n",
       "      <th>MAKE_RGB_LUPTON</th>\n",
       "      <th>RGB_LUPTON_COLORS</th>\n",
       "      <th>SEXAGECIMAL</th>\n",
       "      <th>RGB_MINIMUM</th>\n",
       "      <th>RGB_STRETCH</th>\n",
       "      <th>RGB_ASINH</th>\n",
       "    </tr>\n",
       "  </thead>\n",
       "  <tbody>\n",
       "    <tr>\n",
       "      <th>0</th>\n",
       "      <td>359.889732</td>\n",
       "      <td>2.139907</td>\n",
       "      <td>NaN</td>\n",
       "      <td>DES0000+0209</td>\n",
       "      <td>0.2</td>\n",
       "      <td>0.2</td>\n",
       "      <td>True</td>\n",
       "      <td>gri</td>\n",
       "      <td>False</td>\n",
       "      <td>gri</td>\n",
       "      <td>False</td>\n",
       "      <td>gri</td>\n",
       "      <td>DESJ235933.5357+020823.6652</td>\n",
       "      <td>1</td>\n",
       "      <td>50</td>\n",
       "      <td>10</td>\n",
       "    </tr>\n",
       "  </tbody>\n",
       "</table>\n",
       "</div>"
      ],
      "text/plain": [
       "           RA       DEC  COADD_OBJECT_ID      TILENAME  XSIZE  YSIZE  \\\n",
       "0  359.889732  2.139907              NaN  DES0000+0209    0.2    0.2   \n",
       "\n",
       "   MAKE_FITS COLORS_FITS  MAKE_RGB_STIFF RGB_STIFF_COLORS  MAKE_RGB_LUPTON  \\\n",
       "0       True         gri           False              gri            False   \n",
       "\n",
       "  RGB_LUPTON_COLORS                  SEXAGECIMAL  RGB_MINIMUM  RGB_STRETCH  \\\n",
       "0               gri  DESJ235933.5357+020823.6652            1           50   \n",
       "\n",
       "   RGB_ASINH  \n",
       "0         10  "
      ]
     },
     "execution_count": 3,
     "metadata": {},
     "output_type": "execute_result"
    }
   ],
   "source": [
    "data_log = pd.read_csv('cutouts_Jack/cutouts/table_service.log', sep='\\t')#, usecols=[1,2,3,4,5,6])\n",
    "print(data_log.columns)\n",
    "data_log.head(1)"
   ]
  },
  {
   "cell_type": "code",
   "execution_count": 4,
   "metadata": {},
   "outputs": [],
   "source": [
    "x = np.zeros((1,3,46,46))\n",
    "table_df = pd.DataFrame()\n",
    "path_cut = '/Users/jimenagonzalez/research/DSPL/Searching-double-lenses/real_lenses/cutouts_Jack/cutouts/'\n",
    "end_name = ['_g.fits', '_i.fits', '_r.fits']\n",
    "\n",
    "for file in (os.listdir(path_cut)):\n",
    "    if(file[-6:] == 'g.fits'):\n",
    "        with fits.open(path_cut + file[:-7] + end_name[0]) as hdul: cutout_g = hdul[0].data\n",
    "        with fits.open(path_cut + file[:-7] + end_name[1]) as hdul: cutout_i = hdul[0].data\n",
    "        with fits.open(path_cut + file[:-7] + end_name[2]) as hdul: cutout_r = hdul[0].data\n",
    "        data_ele = data_log[data_log['SEXAGECIMAL'] == file[:-7]]\n",
    "        ra, dec = data_ele['RA'], data_ele['DEC']\n",
    "        other_ele = data[data['ra'] == ra.values[0]]\n",
    "        other_ele = other_ele[other_ele['dec'] == dec.values[0]]\n",
    "        \n",
    "        table_df = table_df.append(other_ele.iloc[0])#.str.encode(encoding='utf-8'))\n",
    "        element = np.array([cutout_g, cutout_r, cutout_i])\n",
    "        x = np.append(x, [element], axis = 0)\n",
    "x = np.delete(x, 0, axis = 0)"
   ]
  },
  {
   "cell_type": "code",
   "execution_count": 5,
   "metadata": {},
   "outputs": [
    {
     "name": "stdout",
     "output_type": "stream",
     "text": [
      "(249, 3, 46, 46)\n",
      "249\n"
     ]
    }
   ],
   "source": [
    "print(x.shape)\n",
    "print(len(table_df))"
   ]
  },
  {
   "cell_type": "code",
   "execution_count": 6,
   "metadata": {},
   "outputs": [
    {
     "name": "stderr",
     "output_type": "stream",
     "text": [
      "/Users/jimenagonzalez/Software/miniconda3/lib/python3.7/site-packages/ipykernel_launcher.py:6: DeprecationWarning: invalid escape sequence '\\u'\n",
      "  \n"
     ]
    }
   ],
   "source": [
    "my_types = {'name': np.dtype('U25'), 'ACT': 'int16', 'BBNA': 'int16','BNA': 'int16', \n",
    "            'TI': 'int16', 'RNA': 'int16', 'RNA2': 'int16', 'redM': 'int16', 'redM_missed': 'int16',\n",
    "            'SPTPol': 'int16', 'D17': 'bool', 'J1': 'bool', 'J2': 'bool'}\n",
    "table_df = table_df.astype(my_types)\n",
    "table_df['name'] = table_df['name'].apply(lambda x: codecs.escape_decode(bytes(x.encode('unicode-escape').decode(), \"utf-8\"))[0].decode('utf-8').strip())\n",
    "table_df['comment'] = table_df['comment'].apply(lambda x: codecs.escape_decode(bytes(x.encode('unicode-escape').decode(), \"utf-8\"))[0].decode('utf-8').strip())\n",
    "#table_df['algo'] = table_df['algo'].apply(lambda x: codecs.escape_decode(bytes(x.encode('unicode-escape').decode(), \"utf-8\"))[0].decode('utf-8').strip())\n",
    "#table_df['aliases'] = table_df['aliases'].apply(lambda x: codecs.escape_decode(bytes(x.encode('unicode-escape').decode(), \"utf-8\"))[0].decode('utf-8').strip())\n"
   ]
  },
  {
   "cell_type": "code",
   "execution_count": 7,
   "metadata": {
    "scrolled": true
   },
   "outputs": [
    {
     "data": {
      "text/html": [
       "<div><i>Table length=10</i>\n",
       "<table id=\"table140443657410192\" class=\"table-striped table-bordered table-condensed\">\n",
       "<thead><tr><th>name</th><th>ra</th><th>dec</th><th>comment</th><th>rank</th><th>num_sources</th><th>num_lenses</th><th>mem_match_id</th><th>einstein_radius</th><th>einstein_radius_err</th><th>ACT</th><th>BBNA</th><th>BNA</th><th>TI</th><th>RNA</th><th>RNA2</th><th>redM</th><th>redM_missed</th><th>SPTPol</th><th>algo</th><th>D17</th><th>J1</th><th>J2</th><th>aliases</th></tr></thead>\n",
       "<thead><tr><th>str14</th><th>float64</th><th>float64</th><th>str108</th><th>float64</th><th>float64</th><th>float64</th><th>float64</th><th>float64</th><th>float64</th><th>int16</th><th>int16</th><th>int16</th><th>int16</th><th>int16</th><th>int16</th><th>int16</th><th>int16</th><th>int16</th><th>str39</th><th>bool</th><th>bool</th><th>bool</th><th>str73</th></tr></thead>\n",
       "<tr><td>DESJ0411-4506</td><td>62.792039</td><td>-45.10771</td><td>yes D17,  Not J1,  not J2 skip,  MMI 2094,  substructure</td><td>3.0</td><td>1.0</td><td>1.0</td><td>2094.0</td><td>4.214248608926029</td><td>0.4967573989165634</td><td>0</td><td>0</td><td>0</td><td>0</td><td>1</td><td>0</td><td>1</td><td>0</td><td>0</td><td>[&apos;RNA&apos;, &apos;redM&apos;]</td><td>True</td><td>False</td><td>False</td><td>[]</td></tr>\n",
       "<tr><td>DESJ0218-3142</td><td>34.582248</td><td>-31.704951</td><td>Not D17,  Not J1,  not J2 need to recheck fixed name,  MMI 30,  miscentered?</td><td>6.0</td><td>1.0</td><td>1.0</td><td>30.0</td><td>8.500516737236143</td><td>0.8898071970940211</td><td>1</td><td>0</td><td>0</td><td>0</td><td>1</td><td>0</td><td>0</td><td>1</td><td>1</td><td>[&apos;RNA&apos;, &apos;ACT&apos;, &apos;SPTPol&apos;, &apos;redM_missed&apos;]</td><td>False</td><td>False</td><td>False</td><td>[]</td></tr>\n",
       "<tr><td>DESJ0252-4732</td><td>43.08291</td><td>-47.54382</td><td>Yes D17,  not J1, Yes J2ad skip,  MMI 12162</td><td>7.0</td><td>1.0</td><td>1.0</td><td>12162.0</td><td>2.9391850858525967</td><td>0.3944072637376033</td><td>0</td><td>0</td><td>0</td><td>0</td><td>0</td><td>0</td><td>1</td><td>0</td><td>0</td><td>[&apos;redM&apos;]</td><td>True</td><td>False</td><td>True</td><td>[]</td></tr>\n",
       "<tr><td>DESJ0043-3453</td><td>10.98143</td><td>-34.887714</td><td>Not D17,  Not J1,  not J2</td><td>7.0</td><td>1.0</td><td>1.0</td><td>-1.0</td><td>3.896357420091629</td><td>0.470090429014494</td><td>0</td><td>0</td><td>0</td><td>1</td><td>0</td><td>0</td><td>0</td><td>0</td><td>0</td><td>[&apos;TI&apos;]</td><td>False</td><td>False</td><td>False</td><td>[]</td></tr>\n",
       "<tr><td>DESJ0047-3826</td><td>11.998543</td><td>-38.445888</td><td>Not D17,  Not J1,  not J2,  MMI 3088</td><td>7.0</td><td>2.0</td><td>1.0</td><td>3088.0</td><td>7.882081613104095</td><td>0.7166748244023192</td><td>1</td><td>0</td><td>0</td><td>1</td><td>0</td><td>0</td><td>0</td><td>1</td><td>0</td><td>[&apos;TI&apos;, &apos;ACT&apos;, &apos;redM_missed&apos;]</td><td>False</td><td>False</td><td>False</td><td>[]</td></tr>\n",
       "<tr><td>DESJ0557-4113</td><td>89.44746</td><td>-41.22415</td><td>Yes D17,  not J1,  not J2 - skip</td><td>6.0</td><td>1.0</td><td>1.0</td><td>-1.0</td><td>15.766850479743244</td><td>1.5984694993980328</td><td>1</td><td>0</td><td>0</td><td>0</td><td>0</td><td>0</td><td>0</td><td>0</td><td>0</td><td>[&apos;ACT&apos;]</td><td>True</td><td>False</td><td>False</td><td>[]</td></tr>\n",
       "<tr><td>DESJ0145-3541</td><td>26.44499</td><td>-35.690953</td><td>Not D17,  not J1,  Yes J2n - skip,  MMI 26429</td><td>10.0</td><td>1.0</td><td>1.0</td><td>26429.0</td><td>3.273814374167662</td><td>0.4199376210403969</td><td>0</td><td>0</td><td>0</td><td>0</td><td>0</td><td>0</td><td>1</td><td>0</td><td>0</td><td>[&apos;redM&apos;]</td><td>False</td><td>False</td><td>True</td><td>[]</td></tr>\n",
       "<tr><td>DESJ2324-4944</td><td>351.13617</td><td>-49.74943</td><td>Yes D17,  not J1,  not J2 skip,  MMI 17188</td><td>7.0</td><td>2.0</td><td>1.0</td><td>17188.0</td><td>5.082352759796398</td><td>0.2876333749191082</td><td>0</td><td>0</td><td>0</td><td>0</td><td>0</td><td>0</td><td>1</td><td>0</td><td>0</td><td>[&apos;redM&apos;]</td><td>True</td><td>False</td><td>False</td><td>[]</td></tr>\n",
       "<tr><td>DESJ0214-0535</td><td>33.533852</td><td>-5.592691</td><td>Not D17,  not J1,   not J2,  MMI 4168</td><td>7.0</td><td>2.0</td><td>2.0</td><td>4168.0</td><td>7.300699404957063</td><td>0.8232714665660213</td><td>0</td><td>0</td><td>0</td><td>0</td><td>0</td><td>0</td><td>1</td><td>0</td><td>0</td><td>[&apos;redM&apos;]</td><td>False</td><td>False</td><td>False</td><td>[&apos;SL2S J021408-053532&apos;, &apos;SA22&apos;]</td></tr>\n",
       "<tr><td>DESJ0130-3744</td><td>22.512071</td><td>-37.749394</td><td>Not in D17,  Not J1,  yes J2n skip,  MMI 21327</td><td>7.0</td><td>3.0</td><td>1.0</td><td>21327.0</td><td>5.328462770441753</td><td>0.9128182949095032</td><td>0</td><td>0</td><td>1</td><td>0</td><td>1</td><td>0</td><td>1</td><td>0</td><td>0</td><td>[&apos;BNA&apos;, &apos;RNA&apos;, &apos;redM&apos;]</td><td>False</td><td>False</td><td>True</td><td>[]</td></tr>\n",
       "</table></div>"
      ],
      "text/plain": [
       "<Table length=10>\n",
       "     name         ra       dec     ...   J1    J2              aliases            \n",
       "    str14      float64   float64   ...  bool  bool              str73             \n",
       "------------- --------- ---------- ... ----- ----- -------------------------------\n",
       "DESJ0411-4506 62.792039  -45.10771 ... False False                              []\n",
       "DESJ0218-3142 34.582248 -31.704951 ... False False                              []\n",
       "DESJ0252-4732  43.08291  -47.54382 ... False  True                              []\n",
       "DESJ0043-3453  10.98143 -34.887714 ... False False                              []\n",
       "DESJ0047-3826 11.998543 -38.445888 ... False False                              []\n",
       "DESJ0557-4113  89.44746  -41.22415 ... False False                              []\n",
       "DESJ0145-3541  26.44499 -35.690953 ... False  True                              []\n",
       "DESJ2324-4944 351.13617  -49.74943 ... False False                              []\n",
       "DESJ0214-0535 33.533852  -5.592691 ... False False ['SL2S J021408-053532', 'SA22']\n",
       "DESJ0130-3744 22.512071 -37.749394 ... False  True                              []"
      ]
     },
     "execution_count": 7,
     "metadata": {},
     "output_type": "execute_result"
    }
   ],
   "source": [
    "table_data = Table.from_pandas(table_df)\n",
    "table_data[0:10]"
   ]
  },
  {
   "cell_type": "code",
   "execution_count": 8,
   "metadata": {},
   "outputs": [],
   "source": [
    "name = 'real_lenses_Jack'\n",
    "primary = fits.PrimaryHDU()\n",
    "image = fits.ImageHDU(x, name=\"IMAGE\")\n",
    "table = fits.BinTableHDU(data = table_data)\n",
    "hdu_list = fits.HDUList([primary, image, table])\n",
    "hdu_list.writeto(path_cut + name + '.fits', overwrite=True)"
   ]
  }
 ],
 "metadata": {
  "kernelspec": {
   "display_name": "Python 3 (ipykernel)",
   "language": "python",
   "name": "python3"
  },
  "language_info": {
   "codemirror_mode": {
    "name": "ipython",
    "version": 3
   },
   "file_extension": ".py",
   "mimetype": "text/x-python",
   "name": "python",
   "nbconvert_exporter": "python",
   "pygments_lexer": "ipython3",
   "version": "3.7.11"
  }
 },
 "nbformat": 4,
 "nbformat_minor": 4
}
